{
 "cells": [
  {
   "cell_type": "code",
   "execution_count": 2,
   "id": "4b146f13",
   "metadata": {},
   "outputs": [],
   "source": [
    "import numpy as np\n",
    "import pandas as pd\n",
    "import spotipy as sp\n",
    "import pickle\n",
    "from sklearn import datasets # sklearn comes with some toy datasets to practice\n",
    "from sklearn.preprocessing import StandardScaler\n",
    "from sklearn.cluster import KMeans\n",
    "from matplotlib import pyplot\n",
    "from sklearn.metrics import silhouette_score\n",
    "\n",
    "##!conda install -c conda-forge spotipy\n",
    "\n",
    "import config\n",
    "import pandas\n",
    "import spotipy\n",
    "import json\n",
    "from spotipy.oauth2 import SpotifyClientCredentials\n",
    "import pprint\n",
    "\n",
    "\n",
    "#Initialize SpotiPy with user credentials\n",
    "sp = spotipy.Spotify(auth_manager=SpotifyClientCredentials(client_id= config.client_id,\n",
    "                                                           client_secret= config.client_secret))"
   ]
  },
  {
   "cell_type": "code",
   "execution_count": 3,
   "id": "6164694e",
   "metadata": {},
   "outputs": [
    {
     "data": {
      "text/html": [
       "<div>\n",
       "<style scoped>\n",
       "    .dataframe tbody tr th:only-of-type {\n",
       "        vertical-align: middle;\n",
       "    }\n",
       "\n",
       "    .dataframe tbody tr th {\n",
       "        vertical-align: top;\n",
       "    }\n",
       "\n",
       "    .dataframe thead th {\n",
       "        text-align: right;\n",
       "    }\n",
       "</style>\n",
       "<table border=\"1\" class=\"dataframe\">\n",
       "  <thead>\n",
       "    <tr style=\"text-align: right;\">\n",
       "      <th></th>\n",
       "      <th>danceability</th>\n",
       "      <th>energy</th>\n",
       "      <th>key</th>\n",
       "      <th>loudness</th>\n",
       "      <th>mode</th>\n",
       "      <th>speechiness</th>\n",
       "      <th>acousticness</th>\n",
       "      <th>instrumentalness</th>\n",
       "      <th>liveness</th>\n",
       "      <th>valence</th>\n",
       "      <th>tempo</th>\n",
       "      <th>type</th>\n",
       "      <th>id</th>\n",
       "      <th>uri</th>\n",
       "      <th>track_href</th>\n",
       "      <th>analysis_url</th>\n",
       "      <th>duration_ms</th>\n",
       "      <th>time_signature</th>\n",
       "    </tr>\n",
       "  </thead>\n",
       "  <tbody>\n",
       "    <tr>\n",
       "      <th>0</th>\n",
       "      <td>0.432</td>\n",
       "      <td>0.884</td>\n",
       "      <td>8</td>\n",
       "      <td>-6.659</td>\n",
       "      <td>1</td>\n",
       "      <td>0.1300</td>\n",
       "      <td>0.012700</td>\n",
       "      <td>0.000527</td>\n",
       "      <td>0.1660</td>\n",
       "      <td>0.624</td>\n",
       "      <td>108.948</td>\n",
       "      <td>audio_features</td>\n",
       "      <td>5cZqsjVs6MevCnAkasbEOX</td>\n",
       "      <td>spotify:track:5cZqsjVs6MevCnAkasbEOX</td>\n",
       "      <td>https://api.spotify.com/v1/tracks/5cZqsjVs6Mev...</td>\n",
       "      <td>https://api.spotify.com/v1/audio-analysis/5cZq...</td>\n",
       "      <td>166707</td>\n",
       "      <td>4</td>\n",
       "    </tr>\n",
       "    <tr>\n",
       "      <th>1</th>\n",
       "      <td>0.465</td>\n",
       "      <td>0.977</td>\n",
       "      <td>7</td>\n",
       "      <td>-3.839</td>\n",
       "      <td>0</td>\n",
       "      <td>0.1750</td>\n",
       "      <td>0.001110</td>\n",
       "      <td>0.002980</td>\n",
       "      <td>0.2010</td>\n",
       "      <td>0.233</td>\n",
       "      <td>89.535</td>\n",
       "      <td>audio_features</td>\n",
       "      <td>6imjJij6aCM0IbbODUzJQn</td>\n",
       "      <td>spotify:track:6imjJij6aCM0IbbODUzJQn</td>\n",
       "      <td>https://api.spotify.com/v1/tracks/6imjJij6aCM0...</td>\n",
       "      <td>https://api.spotify.com/v1/audio-analysis/6imj...</td>\n",
       "      <td>284027</td>\n",
       "      <td>4</td>\n",
       "    </tr>\n",
       "    <tr>\n",
       "      <th>2</th>\n",
       "      <td>0.457</td>\n",
       "      <td>0.834</td>\n",
       "      <td>5</td>\n",
       "      <td>-4.674</td>\n",
       "      <td>0</td>\n",
       "      <td>0.0817</td>\n",
       "      <td>0.002520</td>\n",
       "      <td>0.001250</td>\n",
       "      <td>0.1000</td>\n",
       "      <td>0.201</td>\n",
       "      <td>140.032</td>\n",
       "      <td>audio_features</td>\n",
       "      <td>1H4Y9uW4N0LsxJUz0VnaPJ</td>\n",
       "      <td>spotify:track:1H4Y9uW4N0LsxJUz0VnaPJ</td>\n",
       "      <td>https://api.spotify.com/v1/tracks/1H4Y9uW4N0Ls...</td>\n",
       "      <td>https://api.spotify.com/v1/audio-analysis/1H4Y...</td>\n",
       "      <td>204677</td>\n",
       "      <td>4</td>\n",
       "    </tr>\n",
       "    <tr>\n",
       "      <th>3</th>\n",
       "      <td>0.591</td>\n",
       "      <td>0.963</td>\n",
       "      <td>0</td>\n",
       "      <td>-6.489</td>\n",
       "      <td>0</td>\n",
       "      <td>0.0531</td>\n",
       "      <td>0.000087</td>\n",
       "      <td>0.000107</td>\n",
       "      <td>0.0781</td>\n",
       "      <td>0.609</td>\n",
       "      <td>125.030</td>\n",
       "      <td>audio_features</td>\n",
       "      <td>6Nm8h73ycDG2saCnZV8poF</td>\n",
       "      <td>spotify:track:6Nm8h73ycDG2saCnZV8poF</td>\n",
       "      <td>https://api.spotify.com/v1/tracks/6Nm8h73ycDG2...</td>\n",
       "      <td>https://api.spotify.com/v1/audio-analysis/6Nm8...</td>\n",
       "      <td>222827</td>\n",
       "      <td>4</td>\n",
       "    </tr>\n",
       "    <tr>\n",
       "      <th>4</th>\n",
       "      <td>0.580</td>\n",
       "      <td>0.916</td>\n",
       "      <td>3</td>\n",
       "      <td>-4.358</td>\n",
       "      <td>0</td>\n",
       "      <td>0.0387</td>\n",
       "      <td>0.000297</td>\n",
       "      <td>0.025900</td>\n",
       "      <td>0.1260</td>\n",
       "      <td>0.683</td>\n",
       "      <td>118.004</td>\n",
       "      <td>audio_features</td>\n",
       "      <td>5anCkDvJ17aznvK5TED5uo</td>\n",
       "      <td>spotify:track:5anCkDvJ17aznvK5TED5uo</td>\n",
       "      <td>https://api.spotify.com/v1/tracks/5anCkDvJ17az...</td>\n",
       "      <td>https://api.spotify.com/v1/audio-analysis/5anC...</td>\n",
       "      <td>305907</td>\n",
       "      <td>4</td>\n",
       "    </tr>\n",
       "    <tr>\n",
       "      <th>...</th>\n",
       "      <td>...</td>\n",
       "      <td>...</td>\n",
       "      <td>...</td>\n",
       "      <td>...</td>\n",
       "      <td>...</td>\n",
       "      <td>...</td>\n",
       "      <td>...</td>\n",
       "      <td>...</td>\n",
       "      <td>...</td>\n",
       "      <td>...</td>\n",
       "      <td>...</td>\n",
       "      <td>...</td>\n",
       "      <td>...</td>\n",
       "      <td>...</td>\n",
       "      <td>...</td>\n",
       "      <td>...</td>\n",
       "      <td>...</td>\n",
       "      <td>...</td>\n",
       "    </tr>\n",
       "    <tr>\n",
       "      <th>2094</th>\n",
       "      <td>0.601</td>\n",
       "      <td>0.434</td>\n",
       "      <td>2</td>\n",
       "      <td>-11.291</td>\n",
       "      <td>1</td>\n",
       "      <td>0.0664</td>\n",
       "      <td>0.905000</td>\n",
       "      <td>0.408000</td>\n",
       "      <td>0.1360</td>\n",
       "      <td>0.926</td>\n",
       "      <td>128.928</td>\n",
       "      <td>audio_features</td>\n",
       "      <td>5pqe0gd0C0k3Q636nWSrCs</td>\n",
       "      <td>spotify:track:5pqe0gd0C0k3Q636nWSrCs</td>\n",
       "      <td>https://api.spotify.com/v1/tracks/5pqe0gd0C0k3...</td>\n",
       "      <td>https://api.spotify.com/v1/audio-analysis/5pqe...</td>\n",
       "      <td>278293</td>\n",
       "      <td>4</td>\n",
       "    </tr>\n",
       "    <tr>\n",
       "      <th>2095</th>\n",
       "      <td>0.477</td>\n",
       "      <td>0.320</td>\n",
       "      <td>3</td>\n",
       "      <td>-10.421</td>\n",
       "      <td>1</td>\n",
       "      <td>0.0770</td>\n",
       "      <td>0.960000</td>\n",
       "      <td>0.939000</td>\n",
       "      <td>0.0726</td>\n",
       "      <td>0.971</td>\n",
       "      <td>91.799</td>\n",
       "      <td>audio_features</td>\n",
       "      <td>2sNmaCsnkMHeuG4NcVEz3z</td>\n",
       "      <td>spotify:track:2sNmaCsnkMHeuG4NcVEz3z</td>\n",
       "      <td>https://api.spotify.com/v1/tracks/2sNmaCsnkMHe...</td>\n",
       "      <td>https://api.spotify.com/v1/audio-analysis/2sNm...</td>\n",
       "      <td>197000</td>\n",
       "      <td>3</td>\n",
       "    </tr>\n",
       "    <tr>\n",
       "      <th>2096</th>\n",
       "      <td>0.553</td>\n",
       "      <td>0.855</td>\n",
       "      <td>2</td>\n",
       "      <td>-5.394</td>\n",
       "      <td>1</td>\n",
       "      <td>0.0485</td>\n",
       "      <td>0.701000</td>\n",
       "      <td>0.000387</td>\n",
       "      <td>0.7200</td>\n",
       "      <td>0.971</td>\n",
       "      <td>122.043</td>\n",
       "      <td>audio_features</td>\n",
       "      <td>3kW6XrBALTASTUrgGw0Yu0</td>\n",
       "      <td>spotify:track:3kW6XrBALTASTUrgGw0Yu0</td>\n",
       "      <td>https://api.spotify.com/v1/tracks/3kW6XrBALTAS...</td>\n",
       "      <td>https://api.spotify.com/v1/audio-analysis/3kW6...</td>\n",
       "      <td>169627</td>\n",
       "      <td>4</td>\n",
       "    </tr>\n",
       "    <tr>\n",
       "      <th>2097</th>\n",
       "      <td>0.711</td>\n",
       "      <td>0.718</td>\n",
       "      <td>7</td>\n",
       "      <td>-8.508</td>\n",
       "      <td>1</td>\n",
       "      <td>0.0450</td>\n",
       "      <td>0.719000</td>\n",
       "      <td>0.925000</td>\n",
       "      <td>0.1020</td>\n",
       "      <td>0.964</td>\n",
       "      <td>115.365</td>\n",
       "      <td>audio_features</td>\n",
       "      <td>6tWVMFlSwTPVOgeWBQMapG</td>\n",
       "      <td>spotify:track:6tWVMFlSwTPVOgeWBQMapG</td>\n",
       "      <td>https://api.spotify.com/v1/tracks/6tWVMFlSwTPV...</td>\n",
       "      <td>https://api.spotify.com/v1/audio-analysis/6tWV...</td>\n",
       "      <td>209267</td>\n",
       "      <td>4</td>\n",
       "    </tr>\n",
       "    <tr>\n",
       "      <th>2098</th>\n",
       "      <td>0.470</td>\n",
       "      <td>0.564</td>\n",
       "      <td>2</td>\n",
       "      <td>-8.129</td>\n",
       "      <td>1</td>\n",
       "      <td>0.0414</td>\n",
       "      <td>0.425000</td>\n",
       "      <td>0.006580</td>\n",
       "      <td>0.1740</td>\n",
       "      <td>0.845</td>\n",
       "      <td>119.355</td>\n",
       "      <td>audio_features</td>\n",
       "      <td>3FnKOidmaJJzdP52XBWZ5f</td>\n",
       "      <td>spotify:track:3FnKOidmaJJzdP52XBWZ5f</td>\n",
       "      <td>https://api.spotify.com/v1/tracks/3FnKOidmaJJz...</td>\n",
       "      <td>https://api.spotify.com/v1/audio-analysis/3FnK...</td>\n",
       "      <td>293573</td>\n",
       "      <td>4</td>\n",
       "    </tr>\n",
       "  </tbody>\n",
       "</table>\n",
       "<p>2099 rows × 18 columns</p>\n",
       "</div>"
      ],
      "text/plain": [
       "      danceability  energy  key  loudness  mode  speechiness  acousticness  \\\n",
       "0            0.432   0.884    8    -6.659     1       0.1300      0.012700   \n",
       "1            0.465   0.977    7    -3.839     0       0.1750      0.001110   \n",
       "2            0.457   0.834    5    -4.674     0       0.0817      0.002520   \n",
       "3            0.591   0.963    0    -6.489     0       0.0531      0.000087   \n",
       "4            0.580   0.916    3    -4.358     0       0.0387      0.000297   \n",
       "...            ...     ...  ...       ...   ...          ...           ...   \n",
       "2094         0.601   0.434    2   -11.291     1       0.0664      0.905000   \n",
       "2095         0.477   0.320    3   -10.421     1       0.0770      0.960000   \n",
       "2096         0.553   0.855    2    -5.394     1       0.0485      0.701000   \n",
       "2097         0.711   0.718    7    -8.508     1       0.0450      0.719000   \n",
       "2098         0.470   0.564    2    -8.129     1       0.0414      0.425000   \n",
       "\n",
       "      instrumentalness  liveness  valence    tempo            type  \\\n",
       "0             0.000527    0.1660    0.624  108.948  audio_features   \n",
       "1             0.002980    0.2010    0.233   89.535  audio_features   \n",
       "2             0.001250    0.1000    0.201  140.032  audio_features   \n",
       "3             0.000107    0.0781    0.609  125.030  audio_features   \n",
       "4             0.025900    0.1260    0.683  118.004  audio_features   \n",
       "...                ...       ...      ...      ...             ...   \n",
       "2094          0.408000    0.1360    0.926  128.928  audio_features   \n",
       "2095          0.939000    0.0726    0.971   91.799  audio_features   \n",
       "2096          0.000387    0.7200    0.971  122.043  audio_features   \n",
       "2097          0.925000    0.1020    0.964  115.365  audio_features   \n",
       "2098          0.006580    0.1740    0.845  119.355  audio_features   \n",
       "\n",
       "                          id                                   uri  \\\n",
       "0     5cZqsjVs6MevCnAkasbEOX  spotify:track:5cZqsjVs6MevCnAkasbEOX   \n",
       "1     6imjJij6aCM0IbbODUzJQn  spotify:track:6imjJij6aCM0IbbODUzJQn   \n",
       "2     1H4Y9uW4N0LsxJUz0VnaPJ  spotify:track:1H4Y9uW4N0LsxJUz0VnaPJ   \n",
       "3     6Nm8h73ycDG2saCnZV8poF  spotify:track:6Nm8h73ycDG2saCnZV8poF   \n",
       "4     5anCkDvJ17aznvK5TED5uo  spotify:track:5anCkDvJ17aznvK5TED5uo   \n",
       "...                      ...                                   ...   \n",
       "2094  5pqe0gd0C0k3Q636nWSrCs  spotify:track:5pqe0gd0C0k3Q636nWSrCs   \n",
       "2095  2sNmaCsnkMHeuG4NcVEz3z  spotify:track:2sNmaCsnkMHeuG4NcVEz3z   \n",
       "2096  3kW6XrBALTASTUrgGw0Yu0  spotify:track:3kW6XrBALTASTUrgGw0Yu0   \n",
       "2097  6tWVMFlSwTPVOgeWBQMapG  spotify:track:6tWVMFlSwTPVOgeWBQMapG   \n",
       "2098  3FnKOidmaJJzdP52XBWZ5f  spotify:track:3FnKOidmaJJzdP52XBWZ5f   \n",
       "\n",
       "                                             track_href  \\\n",
       "0     https://api.spotify.com/v1/tracks/5cZqsjVs6Mev...   \n",
       "1     https://api.spotify.com/v1/tracks/6imjJij6aCM0...   \n",
       "2     https://api.spotify.com/v1/tracks/1H4Y9uW4N0Ls...   \n",
       "3     https://api.spotify.com/v1/tracks/6Nm8h73ycDG2...   \n",
       "4     https://api.spotify.com/v1/tracks/5anCkDvJ17az...   \n",
       "...                                                 ...   \n",
       "2094  https://api.spotify.com/v1/tracks/5pqe0gd0C0k3...   \n",
       "2095  https://api.spotify.com/v1/tracks/2sNmaCsnkMHe...   \n",
       "2096  https://api.spotify.com/v1/tracks/3kW6XrBALTAS...   \n",
       "2097  https://api.spotify.com/v1/tracks/6tWVMFlSwTPV...   \n",
       "2098  https://api.spotify.com/v1/tracks/3FnKOidmaJJz...   \n",
       "\n",
       "                                           analysis_url  duration_ms  \\\n",
       "0     https://api.spotify.com/v1/audio-analysis/5cZq...       166707   \n",
       "1     https://api.spotify.com/v1/audio-analysis/6imj...       284027   \n",
       "2     https://api.spotify.com/v1/audio-analysis/1H4Y...       204677   \n",
       "3     https://api.spotify.com/v1/audio-analysis/6Nm8...       222827   \n",
       "4     https://api.spotify.com/v1/audio-analysis/5anC...       305907   \n",
       "...                                                 ...          ...   \n",
       "2094  https://api.spotify.com/v1/audio-analysis/5pqe...       278293   \n",
       "2095  https://api.spotify.com/v1/audio-analysis/2sNm...       197000   \n",
       "2096  https://api.spotify.com/v1/audio-analysis/3kW6...       169627   \n",
       "2097  https://api.spotify.com/v1/audio-analysis/6tWV...       209267   \n",
       "2098  https://api.spotify.com/v1/audio-analysis/3FnK...       293573   \n",
       "\n",
       "      time_signature  \n",
       "0                  4  \n",
       "1                  4  \n",
       "2                  4  \n",
       "3                  4  \n",
       "4                  4  \n",
       "...              ...  \n",
       "2094               4  \n",
       "2095               3  \n",
       "2096               4  \n",
       "2097               4  \n",
       "2098               4  \n",
       "\n",
       "[2099 rows x 18 columns]"
      ]
     },
     "execution_count": 3,
     "metadata": {},
     "output_type": "execute_result"
    }
   ],
   "source": [
    "df = pd.read_csv('combined.csv')\n",
    "df"
   ]
  },
  {
   "cell_type": "code",
   "execution_count": 4,
   "id": "410a695d",
   "metadata": {},
   "outputs": [
    {
     "data": {
      "text/html": [
       "<div>\n",
       "<style scoped>\n",
       "    .dataframe tbody tr th:only-of-type {\n",
       "        vertical-align: middle;\n",
       "    }\n",
       "\n",
       "    .dataframe tbody tr th {\n",
       "        vertical-align: top;\n",
       "    }\n",
       "\n",
       "    .dataframe thead th {\n",
       "        text-align: right;\n",
       "    }\n",
       "</style>\n",
       "<table border=\"1\" class=\"dataframe\">\n",
       "  <thead>\n",
       "    <tr style=\"text-align: right;\">\n",
       "      <th></th>\n",
       "      <th>danceability</th>\n",
       "      <th>energy</th>\n",
       "      <th>key</th>\n",
       "      <th>loudness</th>\n",
       "      <th>mode</th>\n",
       "      <th>speechiness</th>\n",
       "      <th>acousticness</th>\n",
       "      <th>instrumentalness</th>\n",
       "      <th>liveness</th>\n",
       "      <th>valence</th>\n",
       "      <th>tempo</th>\n",
       "    </tr>\n",
       "  </thead>\n",
       "  <tbody>\n",
       "    <tr>\n",
       "      <th>0</th>\n",
       "      <td>0.432</td>\n",
       "      <td>0.884</td>\n",
       "      <td>8</td>\n",
       "      <td>-6.659</td>\n",
       "      <td>1</td>\n",
       "      <td>0.1300</td>\n",
       "      <td>0.012700</td>\n",
       "      <td>0.000527</td>\n",
       "      <td>0.1660</td>\n",
       "      <td>0.624</td>\n",
       "      <td>108.948</td>\n",
       "    </tr>\n",
       "    <tr>\n",
       "      <th>1</th>\n",
       "      <td>0.465</td>\n",
       "      <td>0.977</td>\n",
       "      <td>7</td>\n",
       "      <td>-3.839</td>\n",
       "      <td>0</td>\n",
       "      <td>0.1750</td>\n",
       "      <td>0.001110</td>\n",
       "      <td>0.002980</td>\n",
       "      <td>0.2010</td>\n",
       "      <td>0.233</td>\n",
       "      <td>89.535</td>\n",
       "    </tr>\n",
       "    <tr>\n",
       "      <th>2</th>\n",
       "      <td>0.457</td>\n",
       "      <td>0.834</td>\n",
       "      <td>5</td>\n",
       "      <td>-4.674</td>\n",
       "      <td>0</td>\n",
       "      <td>0.0817</td>\n",
       "      <td>0.002520</td>\n",
       "      <td>0.001250</td>\n",
       "      <td>0.1000</td>\n",
       "      <td>0.201</td>\n",
       "      <td>140.032</td>\n",
       "    </tr>\n",
       "    <tr>\n",
       "      <th>3</th>\n",
       "      <td>0.591</td>\n",
       "      <td>0.963</td>\n",
       "      <td>0</td>\n",
       "      <td>-6.489</td>\n",
       "      <td>0</td>\n",
       "      <td>0.0531</td>\n",
       "      <td>0.000087</td>\n",
       "      <td>0.000107</td>\n",
       "      <td>0.0781</td>\n",
       "      <td>0.609</td>\n",
       "      <td>125.030</td>\n",
       "    </tr>\n",
       "    <tr>\n",
       "      <th>4</th>\n",
       "      <td>0.580</td>\n",
       "      <td>0.916</td>\n",
       "      <td>3</td>\n",
       "      <td>-4.358</td>\n",
       "      <td>0</td>\n",
       "      <td>0.0387</td>\n",
       "      <td>0.000297</td>\n",
       "      <td>0.025900</td>\n",
       "      <td>0.1260</td>\n",
       "      <td>0.683</td>\n",
       "      <td>118.004</td>\n",
       "    </tr>\n",
       "    <tr>\n",
       "      <th>...</th>\n",
       "      <td>...</td>\n",
       "      <td>...</td>\n",
       "      <td>...</td>\n",
       "      <td>...</td>\n",
       "      <td>...</td>\n",
       "      <td>...</td>\n",
       "      <td>...</td>\n",
       "      <td>...</td>\n",
       "      <td>...</td>\n",
       "      <td>...</td>\n",
       "      <td>...</td>\n",
       "    </tr>\n",
       "    <tr>\n",
       "      <th>2094</th>\n",
       "      <td>0.601</td>\n",
       "      <td>0.434</td>\n",
       "      <td>2</td>\n",
       "      <td>-11.291</td>\n",
       "      <td>1</td>\n",
       "      <td>0.0664</td>\n",
       "      <td>0.905000</td>\n",
       "      <td>0.408000</td>\n",
       "      <td>0.1360</td>\n",
       "      <td>0.926</td>\n",
       "      <td>128.928</td>\n",
       "    </tr>\n",
       "    <tr>\n",
       "      <th>2095</th>\n",
       "      <td>0.477</td>\n",
       "      <td>0.320</td>\n",
       "      <td>3</td>\n",
       "      <td>-10.421</td>\n",
       "      <td>1</td>\n",
       "      <td>0.0770</td>\n",
       "      <td>0.960000</td>\n",
       "      <td>0.939000</td>\n",
       "      <td>0.0726</td>\n",
       "      <td>0.971</td>\n",
       "      <td>91.799</td>\n",
       "    </tr>\n",
       "    <tr>\n",
       "      <th>2096</th>\n",
       "      <td>0.553</td>\n",
       "      <td>0.855</td>\n",
       "      <td>2</td>\n",
       "      <td>-5.394</td>\n",
       "      <td>1</td>\n",
       "      <td>0.0485</td>\n",
       "      <td>0.701000</td>\n",
       "      <td>0.000387</td>\n",
       "      <td>0.7200</td>\n",
       "      <td>0.971</td>\n",
       "      <td>122.043</td>\n",
       "    </tr>\n",
       "    <tr>\n",
       "      <th>2097</th>\n",
       "      <td>0.711</td>\n",
       "      <td>0.718</td>\n",
       "      <td>7</td>\n",
       "      <td>-8.508</td>\n",
       "      <td>1</td>\n",
       "      <td>0.0450</td>\n",
       "      <td>0.719000</td>\n",
       "      <td>0.925000</td>\n",
       "      <td>0.1020</td>\n",
       "      <td>0.964</td>\n",
       "      <td>115.365</td>\n",
       "    </tr>\n",
       "    <tr>\n",
       "      <th>2098</th>\n",
       "      <td>0.470</td>\n",
       "      <td>0.564</td>\n",
       "      <td>2</td>\n",
       "      <td>-8.129</td>\n",
       "      <td>1</td>\n",
       "      <td>0.0414</td>\n",
       "      <td>0.425000</td>\n",
       "      <td>0.006580</td>\n",
       "      <td>0.1740</td>\n",
       "      <td>0.845</td>\n",
       "      <td>119.355</td>\n",
       "    </tr>\n",
       "  </tbody>\n",
       "</table>\n",
       "<p>2099 rows × 11 columns</p>\n",
       "</div>"
      ],
      "text/plain": [
       "      danceability  energy  key  loudness  mode  speechiness  acousticness  \\\n",
       "0            0.432   0.884    8    -6.659     1       0.1300      0.012700   \n",
       "1            0.465   0.977    7    -3.839     0       0.1750      0.001110   \n",
       "2            0.457   0.834    5    -4.674     0       0.0817      0.002520   \n",
       "3            0.591   0.963    0    -6.489     0       0.0531      0.000087   \n",
       "4            0.580   0.916    3    -4.358     0       0.0387      0.000297   \n",
       "...            ...     ...  ...       ...   ...          ...           ...   \n",
       "2094         0.601   0.434    2   -11.291     1       0.0664      0.905000   \n",
       "2095         0.477   0.320    3   -10.421     1       0.0770      0.960000   \n",
       "2096         0.553   0.855    2    -5.394     1       0.0485      0.701000   \n",
       "2097         0.711   0.718    7    -8.508     1       0.0450      0.719000   \n",
       "2098         0.470   0.564    2    -8.129     1       0.0414      0.425000   \n",
       "\n",
       "      instrumentalness  liveness  valence    tempo  \n",
       "0             0.000527    0.1660    0.624  108.948  \n",
       "1             0.002980    0.2010    0.233   89.535  \n",
       "2             0.001250    0.1000    0.201  140.032  \n",
       "3             0.000107    0.0781    0.609  125.030  \n",
       "4             0.025900    0.1260    0.683  118.004  \n",
       "...                ...       ...      ...      ...  \n",
       "2094          0.408000    0.1360    0.926  128.928  \n",
       "2095          0.939000    0.0726    0.971   91.799  \n",
       "2096          0.000387    0.7200    0.971  122.043  \n",
       "2097          0.925000    0.1020    0.964  115.365  \n",
       "2098          0.006580    0.1740    0.845  119.355  \n",
       "\n",
       "[2099 rows x 11 columns]"
      ]
     },
     "execution_count": 4,
     "metadata": {},
     "output_type": "execute_result"
    }
   ],
   "source": [
    "# Create a list of columns to exclude\n",
    "exclude_columns = ['id','type', 'uri', 'track_href', 'analysis_url', 'duration_ms', 'time_signature']\n",
    "# Create a new dataframe \"audio_x\" by dropping the specified columns\n",
    "audio_x = df.drop(columns=exclude_columns)\n",
    "audio_x"
   ]
  },
  {
   "cell_type": "code",
   "execution_count": 5,
   "id": "73c596af",
   "metadata": {},
   "outputs": [],
   "source": [
    "X = audio_x"
   ]
  },
  {
   "cell_type": "code",
   "execution_count": 6,
   "id": "0113ed41",
   "metadata": {},
   "outputs": [
    {
     "data": {
      "text/html": [
       "<div>\n",
       "<style scoped>\n",
       "    .dataframe tbody tr th:only-of-type {\n",
       "        vertical-align: middle;\n",
       "    }\n",
       "\n",
       "    .dataframe tbody tr th {\n",
       "        vertical-align: top;\n",
       "    }\n",
       "\n",
       "    .dataframe thead th {\n",
       "        text-align: right;\n",
       "    }\n",
       "</style>\n",
       "<table border=\"1\" class=\"dataframe\">\n",
       "  <thead>\n",
       "    <tr style=\"text-align: right;\">\n",
       "      <th></th>\n",
       "      <th>danceability</th>\n",
       "      <th>energy</th>\n",
       "      <th>key</th>\n",
       "      <th>loudness</th>\n",
       "      <th>mode</th>\n",
       "      <th>speechiness</th>\n",
       "      <th>acousticness</th>\n",
       "      <th>instrumentalness</th>\n",
       "      <th>liveness</th>\n",
       "      <th>valence</th>\n",
       "      <th>tempo</th>\n",
       "    </tr>\n",
       "  </thead>\n",
       "  <tbody>\n",
       "    <tr>\n",
       "      <th>0</th>\n",
       "      <td>0.432</td>\n",
       "      <td>0.884</td>\n",
       "      <td>8</td>\n",
       "      <td>-6.659</td>\n",
       "      <td>1</td>\n",
       "      <td>0.1300</td>\n",
       "      <td>0.012700</td>\n",
       "      <td>0.000527</td>\n",
       "      <td>0.1660</td>\n",
       "      <td>0.624</td>\n",
       "      <td>108.948</td>\n",
       "    </tr>\n",
       "    <tr>\n",
       "      <th>1</th>\n",
       "      <td>0.465</td>\n",
       "      <td>0.977</td>\n",
       "      <td>7</td>\n",
       "      <td>-3.839</td>\n",
       "      <td>0</td>\n",
       "      <td>0.1750</td>\n",
       "      <td>0.001110</td>\n",
       "      <td>0.002980</td>\n",
       "      <td>0.2010</td>\n",
       "      <td>0.233</td>\n",
       "      <td>89.535</td>\n",
       "    </tr>\n",
       "    <tr>\n",
       "      <th>2</th>\n",
       "      <td>0.457</td>\n",
       "      <td>0.834</td>\n",
       "      <td>5</td>\n",
       "      <td>-4.674</td>\n",
       "      <td>0</td>\n",
       "      <td>0.0817</td>\n",
       "      <td>0.002520</td>\n",
       "      <td>0.001250</td>\n",
       "      <td>0.1000</td>\n",
       "      <td>0.201</td>\n",
       "      <td>140.032</td>\n",
       "    </tr>\n",
       "    <tr>\n",
       "      <th>3</th>\n",
       "      <td>0.591</td>\n",
       "      <td>0.963</td>\n",
       "      <td>0</td>\n",
       "      <td>-6.489</td>\n",
       "      <td>0</td>\n",
       "      <td>0.0531</td>\n",
       "      <td>0.000087</td>\n",
       "      <td>0.000107</td>\n",
       "      <td>0.0781</td>\n",
       "      <td>0.609</td>\n",
       "      <td>125.030</td>\n",
       "    </tr>\n",
       "    <tr>\n",
       "      <th>4</th>\n",
       "      <td>0.580</td>\n",
       "      <td>0.916</td>\n",
       "      <td>3</td>\n",
       "      <td>-4.358</td>\n",
       "      <td>0</td>\n",
       "      <td>0.0387</td>\n",
       "      <td>0.000297</td>\n",
       "      <td>0.025900</td>\n",
       "      <td>0.1260</td>\n",
       "      <td>0.683</td>\n",
       "      <td>118.004</td>\n",
       "    </tr>\n",
       "  </tbody>\n",
       "</table>\n",
       "</div>"
      ],
      "text/plain": [
       "   danceability  energy  key  loudness  mode  speechiness  acousticness  \\\n",
       "0         0.432   0.884    8    -6.659     1       0.1300      0.012700   \n",
       "1         0.465   0.977    7    -3.839     0       0.1750      0.001110   \n",
       "2         0.457   0.834    5    -4.674     0       0.0817      0.002520   \n",
       "3         0.591   0.963    0    -6.489     0       0.0531      0.000087   \n",
       "4         0.580   0.916    3    -4.358     0       0.0387      0.000297   \n",
       "\n",
       "   instrumentalness  liveness  valence    tempo  \n",
       "0          0.000527    0.1660    0.624  108.948  \n",
       "1          0.002980    0.2010    0.233   89.535  \n",
       "2          0.001250    0.1000    0.201  140.032  \n",
       "3          0.000107    0.0781    0.609  125.030  \n",
       "4          0.025900    0.1260    0.683  118.004  "
      ]
     },
     "metadata": {},
     "output_type": "display_data"
    },
    {
     "name": "stdout",
     "output_type": "stream",
     "text": [
      "\n"
     ]
    },
    {
     "data": {
      "text/html": [
       "<div>\n",
       "<style scoped>\n",
       "    .dataframe tbody tr th:only-of-type {\n",
       "        vertical-align: middle;\n",
       "    }\n",
       "\n",
       "    .dataframe tbody tr th {\n",
       "        vertical-align: top;\n",
       "    }\n",
       "\n",
       "    .dataframe thead th {\n",
       "        text-align: right;\n",
       "    }\n",
       "</style>\n",
       "<table border=\"1\" class=\"dataframe\">\n",
       "  <thead>\n",
       "    <tr style=\"text-align: right;\">\n",
       "      <th></th>\n",
       "      <th>danceability</th>\n",
       "      <th>energy</th>\n",
       "      <th>key</th>\n",
       "      <th>loudness</th>\n",
       "      <th>mode</th>\n",
       "      <th>speechiness</th>\n",
       "      <th>acousticness</th>\n",
       "      <th>instrumentalness</th>\n",
       "      <th>liveness</th>\n",
       "      <th>valence</th>\n",
       "      <th>tempo</th>\n",
       "    </tr>\n",
       "  </thead>\n",
       "  <tbody>\n",
       "    <tr>\n",
       "      <th>0</th>\n",
       "      <td>-0.666703</td>\n",
       "      <td>0.962123</td>\n",
       "      <td>0.781578</td>\n",
       "      <td>0.428354</td>\n",
       "      <td>0.807128</td>\n",
       "      <td>0.645448</td>\n",
       "      <td>-0.839044</td>\n",
       "      <td>-0.667717</td>\n",
       "      <td>-0.100382</td>\n",
       "      <td>0.498961</td>\n",
       "      <td>-0.338668</td>\n",
       "    </tr>\n",
       "    <tr>\n",
       "      <th>1</th>\n",
       "      <td>-0.477601</td>\n",
       "      <td>1.300342</td>\n",
       "      <td>0.496020</td>\n",
       "      <td>0.897375</td>\n",
       "      <td>-1.238961</td>\n",
       "      <td>1.225344</td>\n",
       "      <td>-0.871108</td>\n",
       "      <td>-0.661027</td>\n",
       "      <td>0.137592</td>\n",
       "      <td>-0.969199</td>\n",
       "      <td>-0.977340</td>\n",
       "    </tr>\n",
       "    <tr>\n",
       "      <th>2</th>\n",
       "      <td>-0.523443</td>\n",
       "      <td>0.780284</td>\n",
       "      <td>-0.075097</td>\n",
       "      <td>0.758498</td>\n",
       "      <td>-1.238961</td>\n",
       "      <td>0.023028</td>\n",
       "      <td>-0.867207</td>\n",
       "      <td>-0.665745</td>\n",
       "      <td>-0.549133</td>\n",
       "      <td>-1.089356</td>\n",
       "      <td>0.683970</td>\n",
       "    </tr>\n",
       "    <tr>\n",
       "      <th>3</th>\n",
       "      <td>0.244426</td>\n",
       "      <td>1.249427</td>\n",
       "      <td>-1.502889</td>\n",
       "      <td>0.456629</td>\n",
       "      <td>-1.238961</td>\n",
       "      <td>-0.345528</td>\n",
       "      <td>-0.873937</td>\n",
       "      <td>-0.668863</td>\n",
       "      <td>-0.698037</td>\n",
       "      <td>0.442638</td>\n",
       "      <td>0.190416</td>\n",
       "    </tr>\n",
       "    <tr>\n",
       "      <th>4</th>\n",
       "      <td>0.181392</td>\n",
       "      <td>1.078499</td>\n",
       "      <td>-0.646214</td>\n",
       "      <td>0.811055</td>\n",
       "      <td>-1.238961</td>\n",
       "      <td>-0.531094</td>\n",
       "      <td>-0.873357</td>\n",
       "      <td>-0.598519</td>\n",
       "      <td>-0.372353</td>\n",
       "      <td>0.720500</td>\n",
       "      <td>-0.040733</td>\n",
       "    </tr>\n",
       "  </tbody>\n",
       "</table>\n",
       "</div>"
      ],
      "text/plain": [
       "   danceability    energy       key  loudness      mode  speechiness  \\\n",
       "0     -0.666703  0.962123  0.781578  0.428354  0.807128     0.645448   \n",
       "1     -0.477601  1.300342  0.496020  0.897375 -1.238961     1.225344   \n",
       "2     -0.523443  0.780284 -0.075097  0.758498 -1.238961     0.023028   \n",
       "3      0.244426  1.249427 -1.502889  0.456629 -1.238961    -0.345528   \n",
       "4      0.181392  1.078499 -0.646214  0.811055 -1.238961    -0.531094   \n",
       "\n",
       "   acousticness  instrumentalness  liveness   valence     tempo  \n",
       "0     -0.839044         -0.667717 -0.100382  0.498961 -0.338668  \n",
       "1     -0.871108         -0.661027  0.137592 -0.969199 -0.977340  \n",
       "2     -0.867207         -0.665745 -0.549133 -1.089356  0.683970  \n",
       "3     -0.873937         -0.668863 -0.698037  0.442638  0.190416  \n",
       "4     -0.873357         -0.598519 -0.372353  0.720500 -0.040733  "
      ]
     },
     "metadata": {},
     "output_type": "display_data"
    }
   ],
   "source": [
    "scaler = StandardScaler()\n",
    "scaler.fit(X)\n",
    "X_scaled = scaler.transform(X)\n",
    "X_scaled_df = pd.DataFrame(X_scaled, columns = X.columns)\n",
    "display(X.head())\n",
    "print()\n",
    "display(X_scaled_df.head())"
   ]
  },
  {
   "cell_type": "code",
   "execution_count": 7,
   "id": "1d146e33",
   "metadata": {},
   "outputs": [
    {
     "name": "stderr",
     "output_type": "stream",
     "text": [
      "C:\\Users\\ivann\\anaconda3\\lib\\site-packages\\sklearn\\cluster\\_kmeans.py:870: FutureWarning: The default value of `n_init` will change from 10 to 'auto' in 1.4. Set the value of `n_init` explicitly to suppress the warning\n",
      "  warnings.warn(\n"
     ]
    },
    {
     "data": {
      "text/html": [
       "<style>#sk-container-id-1 {color: black;background-color: white;}#sk-container-id-1 pre{padding: 0;}#sk-container-id-1 div.sk-toggleable {background-color: white;}#sk-container-id-1 label.sk-toggleable__label {cursor: pointer;display: block;width: 100%;margin-bottom: 0;padding: 0.3em;box-sizing: border-box;text-align: center;}#sk-container-id-1 label.sk-toggleable__label-arrow:before {content: \"▸\";float: left;margin-right: 0.25em;color: #696969;}#sk-container-id-1 label.sk-toggleable__label-arrow:hover:before {color: black;}#sk-container-id-1 div.sk-estimator:hover label.sk-toggleable__label-arrow:before {color: black;}#sk-container-id-1 div.sk-toggleable__content {max-height: 0;max-width: 0;overflow: hidden;text-align: left;background-color: #f0f8ff;}#sk-container-id-1 div.sk-toggleable__content pre {margin: 0.2em;color: black;border-radius: 0.25em;background-color: #f0f8ff;}#sk-container-id-1 input.sk-toggleable__control:checked~div.sk-toggleable__content {max-height: 200px;max-width: 100%;overflow: auto;}#sk-container-id-1 input.sk-toggleable__control:checked~label.sk-toggleable__label-arrow:before {content: \"▾\";}#sk-container-id-1 div.sk-estimator input.sk-toggleable__control:checked~label.sk-toggleable__label {background-color: #d4ebff;}#sk-container-id-1 div.sk-label input.sk-toggleable__control:checked~label.sk-toggleable__label {background-color: #d4ebff;}#sk-container-id-1 input.sk-hidden--visually {border: 0;clip: rect(1px 1px 1px 1px);clip: rect(1px, 1px, 1px, 1px);height: 1px;margin: -1px;overflow: hidden;padding: 0;position: absolute;width: 1px;}#sk-container-id-1 div.sk-estimator {font-family: monospace;background-color: #f0f8ff;border: 1px dotted black;border-radius: 0.25em;box-sizing: border-box;margin-bottom: 0.5em;}#sk-container-id-1 div.sk-estimator:hover {background-color: #d4ebff;}#sk-container-id-1 div.sk-parallel-item::after {content: \"\";width: 100%;border-bottom: 1px solid gray;flex-grow: 1;}#sk-container-id-1 div.sk-label:hover label.sk-toggleable__label {background-color: #d4ebff;}#sk-container-id-1 div.sk-serial::before {content: \"\";position: absolute;border-left: 1px solid gray;box-sizing: border-box;top: 0;bottom: 0;left: 50%;z-index: 0;}#sk-container-id-1 div.sk-serial {display: flex;flex-direction: column;align-items: center;background-color: white;padding-right: 0.2em;padding-left: 0.2em;position: relative;}#sk-container-id-1 div.sk-item {position: relative;z-index: 1;}#sk-container-id-1 div.sk-parallel {display: flex;align-items: stretch;justify-content: center;background-color: white;position: relative;}#sk-container-id-1 div.sk-item::before, #sk-container-id-1 div.sk-parallel-item::before {content: \"\";position: absolute;border-left: 1px solid gray;box-sizing: border-box;top: 0;bottom: 0;left: 50%;z-index: -1;}#sk-container-id-1 div.sk-parallel-item {display: flex;flex-direction: column;z-index: 1;position: relative;background-color: white;}#sk-container-id-1 div.sk-parallel-item:first-child::after {align-self: flex-end;width: 50%;}#sk-container-id-1 div.sk-parallel-item:last-child::after {align-self: flex-start;width: 50%;}#sk-container-id-1 div.sk-parallel-item:only-child::after {width: 0;}#sk-container-id-1 div.sk-dashed-wrapped {border: 1px dashed gray;margin: 0 0.4em 0.5em 0.4em;box-sizing: border-box;padding-bottom: 0.4em;background-color: white;}#sk-container-id-1 div.sk-label label {font-family: monospace;font-weight: bold;display: inline-block;line-height: 1.2em;}#sk-container-id-1 div.sk-label-container {text-align: center;}#sk-container-id-1 div.sk-container {/* jupyter's `normalize.less` sets `[hidden] { display: none; }` but bootstrap.min.css set `[hidden] { display: none !important; }` so we also need the `!important` here to be able to override the default hidden behavior on the sphinx rendered scikit-learn.org. See: https://github.com/scikit-learn/scikit-learn/issues/21755 */display: inline-block !important;position: relative;}#sk-container-id-1 div.sk-text-repr-fallback {display: none;}</style><div id=\"sk-container-id-1\" class=\"sk-top-container\"><div class=\"sk-text-repr-fallback\"><pre>KMeans(n_clusters=6, random_state=1234)</pre><b>In a Jupyter environment, please rerun this cell to show the HTML representation or trust the notebook. <br />On GitHub, the HTML representation is unable to render, please try loading this page with nbviewer.org.</b></div><div class=\"sk-container\" hidden><div class=\"sk-item\"><div class=\"sk-estimator sk-toggleable\"><input class=\"sk-toggleable__control sk-hidden--visually\" id=\"sk-estimator-id-1\" type=\"checkbox\" checked><label for=\"sk-estimator-id-1\" class=\"sk-toggleable__label sk-toggleable__label-arrow\">KMeans</label><div class=\"sk-toggleable__content\"><pre>KMeans(n_clusters=6, random_state=1234)</pre></div></div></div></div></div>"
      ],
      "text/plain": [
       "KMeans(n_clusters=6, random_state=1234)"
      ]
     },
     "execution_count": 7,
     "metadata": {},
     "output_type": "execute_result"
    }
   ],
   "source": [
    "kmeans = KMeans(n_clusters=6, random_state=1234)\n",
    "kmeans.fit(X_scaled_df)"
   ]
  },
  {
   "cell_type": "code",
   "execution_count": 8,
   "id": "b411f150",
   "metadata": {},
   "outputs": [
    {
     "data": {
      "text/plain": [
       "array([0, 2, 3, ..., 4, 0, 0])"
      ]
     },
     "execution_count": 8,
     "metadata": {},
     "output_type": "execute_result"
    }
   ],
   "source": [
    "labels = kmeans.labels_\n",
    "labels"
   ]
  },
  {
   "cell_type": "code",
   "execution_count": 9,
   "id": "03e363ef",
   "metadata": {},
   "outputs": [
    {
     "data": {
      "text/plain": [
       "array([0, 1, 2, 3, 4, 5])"
      ]
     },
     "execution_count": 9,
     "metadata": {},
     "output_type": "execute_result"
    }
   ],
   "source": [
    "np.unique(labels)"
   ]
  },
  {
   "cell_type": "code",
   "execution_count": 10,
   "id": "ed34322c",
   "metadata": {},
   "outputs": [
    {
     "data": {
      "image/png": "[encoded data removed]",
      "text/plain": [
       "<Figure size 640x480 with 1 Axes>"
      ]
     },
     "metadata": {},
     "output_type": "display_data"
    }
   ],
   "source": [
    "# assign a cluster to each example\n",
    "labels = kmeans.predict(X_scaled_df)\n",
    "# retrieve unique clusters\n",
    "clusters = np.unique(labels)\n",
    "# create scatter plot for samples from each cluster\n",
    "for cluster in clusters:\n",
    "    # get row indexes for samples with this cluster\n",
    "    row_ix = np.where(labels == cluster)\n",
    "    # create scatter of these samples\n",
    "    pyplot.scatter(X.to_numpy()[row_ix, 1], X.to_numpy()[row_ix, 3])\n",
    "    # show the plot\n",
    "pyplot.show()"
   ]
  },
  {
   "cell_type": "code",
   "execution_count": 11,
   "id": "35b5a16f",
   "metadata": {},
   "outputs": [
    {
     "data": {
      "text/plain": [
       "0    549\n",
       "1    448\n",
       "2    458\n",
       "3    351\n",
       "4    122\n",
       "5    171\n",
       "dtype: int64"
      ]
     },
     "execution_count": 11,
     "metadata": {},
     "output_type": "execute_result"
    }
   ],
   "source": [
    "clusters = kmeans.predict(X_scaled_df)\n",
    "#clusters\n",
    "pd.Series(clusters).value_counts().sort_index()"
   ]
  },
  {
   "cell_type": "code",
   "execution_count": 12,
   "id": "d89e491e",
   "metadata": {},
   "outputs": [
    {
     "data": {
      "text/plain": [
       "array([0, 2, 3, ..., 4, 0, 0])"
      ]
     },
     "execution_count": 12,
     "metadata": {},
     "output_type": "execute_result"
    }
   ],
   "source": [
    "clusters"
   ]
  },
  {
   "cell_type": "code",
   "execution_count": 13,
   "id": "bcd6efca",
   "metadata": {},
   "outputs": [
    {
     "data": {
      "text/html": [
       "<div>\n",
       "<style scoped>\n",
       "    .dataframe tbody tr th:only-of-type {\n",
       "        vertical-align: middle;\n",
       "    }\n",
       "\n",
       "    .dataframe tbody tr th {\n",
       "        vertical-align: top;\n",
       "    }\n",
       "\n",
       "    .dataframe thead th {\n",
       "        text-align: right;\n",
       "    }\n",
       "</style>\n",
       "<table border=\"1\" class=\"dataframe\">\n",
       "  <thead>\n",
       "    <tr style=\"text-align: right;\">\n",
       "      <th></th>\n",
       "      <th>danceability</th>\n",
       "      <th>energy</th>\n",
       "      <th>key</th>\n",
       "      <th>loudness</th>\n",
       "      <th>mode</th>\n",
       "      <th>speechiness</th>\n",
       "      <th>acousticness</th>\n",
       "      <th>instrumentalness</th>\n",
       "      <th>liveness</th>\n",
       "      <th>valence</th>\n",
       "      <th>tempo</th>\n",
       "      <th>cluster</th>\n",
       "    </tr>\n",
       "  </thead>\n",
       "  <tbody>\n",
       "    <tr>\n",
       "      <th>0</th>\n",
       "      <td>0.432</td>\n",
       "      <td>0.884</td>\n",
       "      <td>8</td>\n",
       "      <td>-6.659</td>\n",
       "      <td>1</td>\n",
       "      <td>0.1300</td>\n",
       "      <td>0.012700</td>\n",
       "      <td>0.000527</td>\n",
       "      <td>0.1660</td>\n",
       "      <td>0.624</td>\n",
       "      <td>108.948</td>\n",
       "      <td>0</td>\n",
       "    </tr>\n",
       "    <tr>\n",
       "      <th>1</th>\n",
       "      <td>0.465</td>\n",
       "      <td>0.977</td>\n",
       "      <td>7</td>\n",
       "      <td>-3.839</td>\n",
       "      <td>0</td>\n",
       "      <td>0.1750</td>\n",
       "      <td>0.001110</td>\n",
       "      <td>0.002980</td>\n",
       "      <td>0.2010</td>\n",
       "      <td>0.233</td>\n",
       "      <td>89.535</td>\n",
       "      <td>2</td>\n",
       "    </tr>\n",
       "    <tr>\n",
       "      <th>2</th>\n",
       "      <td>0.457</td>\n",
       "      <td>0.834</td>\n",
       "      <td>5</td>\n",
       "      <td>-4.674</td>\n",
       "      <td>0</td>\n",
       "      <td>0.0817</td>\n",
       "      <td>0.002520</td>\n",
       "      <td>0.001250</td>\n",
       "      <td>0.1000</td>\n",
       "      <td>0.201</td>\n",
       "      <td>140.032</td>\n",
       "      <td>3</td>\n",
       "    </tr>\n",
       "    <tr>\n",
       "      <th>3</th>\n",
       "      <td>0.591</td>\n",
       "      <td>0.963</td>\n",
       "      <td>0</td>\n",
       "      <td>-6.489</td>\n",
       "      <td>0</td>\n",
       "      <td>0.0531</td>\n",
       "      <td>0.000087</td>\n",
       "      <td>0.000107</td>\n",
       "      <td>0.0781</td>\n",
       "      <td>0.609</td>\n",
       "      <td>125.030</td>\n",
       "      <td>2</td>\n",
       "    </tr>\n",
       "    <tr>\n",
       "      <th>4</th>\n",
       "      <td>0.580</td>\n",
       "      <td>0.916</td>\n",
       "      <td>3</td>\n",
       "      <td>-4.358</td>\n",
       "      <td>0</td>\n",
       "      <td>0.0387</td>\n",
       "      <td>0.000297</td>\n",
       "      <td>0.025900</td>\n",
       "      <td>0.1260</td>\n",
       "      <td>0.683</td>\n",
       "      <td>118.004</td>\n",
       "      <td>2</td>\n",
       "    </tr>\n",
       "    <tr>\n",
       "      <th>...</th>\n",
       "      <td>...</td>\n",
       "      <td>...</td>\n",
       "      <td>...</td>\n",
       "      <td>...</td>\n",
       "      <td>...</td>\n",
       "      <td>...</td>\n",
       "      <td>...</td>\n",
       "      <td>...</td>\n",
       "      <td>...</td>\n",
       "      <td>...</td>\n",
       "      <td>...</td>\n",
       "      <td>...</td>\n",
       "    </tr>\n",
       "    <tr>\n",
       "      <th>2094</th>\n",
       "      <td>0.601</td>\n",
       "      <td>0.434</td>\n",
       "      <td>2</td>\n",
       "      <td>-11.291</td>\n",
       "      <td>1</td>\n",
       "      <td>0.0664</td>\n",
       "      <td>0.905000</td>\n",
       "      <td>0.408000</td>\n",
       "      <td>0.1360</td>\n",
       "      <td>0.926</td>\n",
       "      <td>128.928</td>\n",
       "      <td>0</td>\n",
       "    </tr>\n",
       "    <tr>\n",
       "      <th>2095</th>\n",
       "      <td>0.477</td>\n",
       "      <td>0.320</td>\n",
       "      <td>3</td>\n",
       "      <td>-10.421</td>\n",
       "      <td>1</td>\n",
       "      <td>0.0770</td>\n",
       "      <td>0.960000</td>\n",
       "      <td>0.939000</td>\n",
       "      <td>0.0726</td>\n",
       "      <td>0.971</td>\n",
       "      <td>91.799</td>\n",
       "      <td>1</td>\n",
       "    </tr>\n",
       "    <tr>\n",
       "      <th>2096</th>\n",
       "      <td>0.553</td>\n",
       "      <td>0.855</td>\n",
       "      <td>2</td>\n",
       "      <td>-5.394</td>\n",
       "      <td>1</td>\n",
       "      <td>0.0485</td>\n",
       "      <td>0.701000</td>\n",
       "      <td>0.000387</td>\n",
       "      <td>0.7200</td>\n",
       "      <td>0.971</td>\n",
       "      <td>122.043</td>\n",
       "      <td>4</td>\n",
       "    </tr>\n",
       "    <tr>\n",
       "      <th>2097</th>\n",
       "      <td>0.711</td>\n",
       "      <td>0.718</td>\n",
       "      <td>7</td>\n",
       "      <td>-8.508</td>\n",
       "      <td>1</td>\n",
       "      <td>0.0450</td>\n",
       "      <td>0.719000</td>\n",
       "      <td>0.925000</td>\n",
       "      <td>0.1020</td>\n",
       "      <td>0.964</td>\n",
       "      <td>115.365</td>\n",
       "      <td>0</td>\n",
       "    </tr>\n",
       "    <tr>\n",
       "      <th>2098</th>\n",
       "      <td>0.470</td>\n",
       "      <td>0.564</td>\n",
       "      <td>2</td>\n",
       "      <td>-8.129</td>\n",
       "      <td>1</td>\n",
       "      <td>0.0414</td>\n",
       "      <td>0.425000</td>\n",
       "      <td>0.006580</td>\n",
       "      <td>0.1740</td>\n",
       "      <td>0.845</td>\n",
       "      <td>119.355</td>\n",
       "      <td>0</td>\n",
       "    </tr>\n",
       "  </tbody>\n",
       "</table>\n",
       "<p>2099 rows × 12 columns</p>\n",
       "</div>"
      ],
      "text/plain": [
       "      danceability  energy  key  loudness  mode  speechiness  acousticness  \\\n",
       "0            0.432   0.884    8    -6.659     1       0.1300      0.012700   \n",
       "1            0.465   0.977    7    -3.839     0       0.1750      0.001110   \n",
       "2            0.457   0.834    5    -4.674     0       0.0817      0.002520   \n",
       "3            0.591   0.963    0    -6.489     0       0.0531      0.000087   \n",
       "4            0.580   0.916    3    -4.358     0       0.0387      0.000297   \n",
       "...            ...     ...  ...       ...   ...          ...           ...   \n",
       "2094         0.601   0.434    2   -11.291     1       0.0664      0.905000   \n",
       "2095         0.477   0.320    3   -10.421     1       0.0770      0.960000   \n",
       "2096         0.553   0.855    2    -5.394     1       0.0485      0.701000   \n",
       "2097         0.711   0.718    7    -8.508     1       0.0450      0.719000   \n",
       "2098         0.470   0.564    2    -8.129     1       0.0414      0.425000   \n",
       "\n",
       "      instrumentalness  liveness  valence    tempo  cluster  \n",
       "0             0.000527    0.1660    0.624  108.948        0  \n",
       "1             0.002980    0.2010    0.233   89.535        2  \n",
       "2             0.001250    0.1000    0.201  140.032        3  \n",
       "3             0.000107    0.0781    0.609  125.030        2  \n",
       "4             0.025900    0.1260    0.683  118.004        2  \n",
       "...                ...       ...      ...      ...      ...  \n",
       "2094          0.408000    0.1360    0.926  128.928        0  \n",
       "2095          0.939000    0.0726    0.971   91.799        1  \n",
       "2096          0.000387    0.7200    0.971  122.043        4  \n",
       "2097          0.925000    0.1020    0.964  115.365        0  \n",
       "2098          0.006580    0.1740    0.845  119.355        0  \n",
       "\n",
       "[2099 rows x 12 columns]"
      ]
     },
     "execution_count": 13,
     "metadata": {},
     "output_type": "execute_result"
    }
   ],
   "source": [
    "#X_df = pd.DataFrame(X)\n",
    "X[\"cluster\"] = clusters\n",
    "X"
   ]
  },
  {
   "cell_type": "code",
   "execution_count": 14,
   "id": "bd498293",
   "metadata": {},
   "outputs": [
    {
     "data": {
      "text/html": [
       "<div>\n",
       "<style scoped>\n",
       "    .dataframe tbody tr th:only-of-type {\n",
       "        vertical-align: middle;\n",
       "    }\n",
       "\n",
       "    .dataframe tbody tr th {\n",
       "        vertical-align: top;\n",
       "    }\n",
       "\n",
       "    .dataframe thead th {\n",
       "        text-align: right;\n",
       "    }\n",
       "</style>\n",
       "<table border=\"1\" class=\"dataframe\">\n",
       "  <thead>\n",
       "    <tr style=\"text-align: right;\">\n",
       "      <th></th>\n",
       "      <th>danceability</th>\n",
       "      <th>energy</th>\n",
       "      <th>key</th>\n",
       "      <th>loudness</th>\n",
       "      <th>mode</th>\n",
       "      <th>speechiness</th>\n",
       "      <th>acousticness</th>\n",
       "      <th>instrumentalness</th>\n",
       "      <th>liveness</th>\n",
       "      <th>valence</th>\n",
       "      <th>tempo</th>\n",
       "      <th>cluster</th>\n",
       "    </tr>\n",
       "  </thead>\n",
       "  <tbody>\n",
       "    <tr>\n",
       "      <th>670</th>\n",
       "      <td>0.772</td>\n",
       "      <td>0.75</td>\n",
       "      <td>5</td>\n",
       "      <td>-3.67</td>\n",
       "      <td>0</td>\n",
       "      <td>0.0455</td>\n",
       "      <td>0.0201</td>\n",
       "      <td>0.0</td>\n",
       "      <td>0.074</td>\n",
       "      <td>0.587</td>\n",
       "      <td>114.061</td>\n",
       "      <td>2</td>\n",
       "    </tr>\n",
       "  </tbody>\n",
       "</table>\n",
       "</div>"
      ],
      "text/plain": [
       "     danceability  energy  key  loudness  mode  speechiness  acousticness  \\\n",
       "670         0.772    0.75    5     -3.67     0       0.0455        0.0201   \n",
       "\n",
       "     instrumentalness  liveness  valence    tempo  cluster  \n",
       "670               0.0     0.074    0.587  114.061        2  "
      ]
     },
     "execution_count": 14,
     "metadata": {},
     "output_type": "execute_result"
    }
   ],
   "source": [
    "X[X['cluster'] == 2].sample()"
   ]
  },
  {
   "cell_type": "code",
   "execution_count": 15,
   "id": "d9dd83b7",
   "metadata": {},
   "outputs": [
    {
     "data": {
      "text/plain": [
       "12051.545870206708"
      ]
     },
     "execution_count": 15,
     "metadata": {},
     "output_type": "execute_result"
    }
   ],
   "source": [
    "kmeans.inertia_"
   ]
  },
  {
   "cell_type": "code",
   "execution_count": 16,
   "id": "d668570f",
   "metadata": {},
   "outputs": [
    {
     "name": "stdout",
     "output_type": "stream",
     "text": [
      "15342.5043700836\n"
     ]
    }
   ],
   "source": [
    "kmeans2 = KMeans(n_clusters=3,\n",
    "                init=\"k-means++\",\n",
    "                n_init=50,  # try with 1, 4, 8, 20, 30, 100...\n",
    "                max_iter=1,\n",
    "                tol=0,\n",
    "                algorithm=\"elkan\",\n",
    "                random_state=1234)\n",
    "kmeans2.fit(X_scaled_df)\n",
    "print(kmeans2.inertia_)"
   ]
  },
  {
   "cell_type": "code",
   "execution_count": 17,
   "id": "84d4a623",
   "metadata": {},
   "outputs": [
    {
     "name": "stdout",
     "output_type": "stream",
     "text": [
      "Training a K-Means model with 2 clusters! \n",
      "\n"
     ]
    },
    {
     "name": "stderr",
     "output_type": "stream",
     "text": [
      "C:\\Users\\ivann\\anaconda3\\lib\\site-packages\\sklearn\\cluster\\_kmeans.py:870: FutureWarning: The default value of `n_init` will change from 10 to 'auto' in 1.4. Set the value of `n_init` explicitly to suppress the warning\n",
      "  warnings.warn(\n"
     ]
    },
    {
     "name": "stdout",
     "output_type": "stream",
     "text": [
      "Training a K-Means model with 3 clusters! \n",
      "\n"
     ]
    },
    {
     "name": "stderr",
     "output_type": "stream",
     "text": [
      "C:\\Users\\ivann\\anaconda3\\lib\\site-packages\\sklearn\\cluster\\_kmeans.py:870: FutureWarning: The default value of `n_init` will change from 10 to 'auto' in 1.4. Set the value of `n_init` explicitly to suppress the warning\n",
      "  warnings.warn(\n"
     ]
    },
    {
     "name": "stdout",
     "output_type": "stream",
     "text": [
      "Training a K-Means model with 4 clusters! \n",
      "\n"
     ]
    },
    {
     "name": "stderr",
     "output_type": "stream",
     "text": [
      "C:\\Users\\ivann\\anaconda3\\lib\\site-packages\\sklearn\\cluster\\_kmeans.py:870: FutureWarning: The default value of `n_init` will change from 10 to 'auto' in 1.4. Set the value of `n_init` explicitly to suppress the warning\n",
      "  warnings.warn(\n"
     ]
    },
    {
     "name": "stdout",
     "output_type": "stream",
     "text": [
      "Training a K-Means model with 5 clusters! \n",
      "\n"
     ]
    },
    {
     "name": "stderr",
     "output_type": "stream",
     "text": [
      "C:\\Users\\ivann\\anaconda3\\lib\\site-packages\\sklearn\\cluster\\_kmeans.py:870: FutureWarning: The default value of `n_init` will change from 10 to 'auto' in 1.4. Set the value of `n_init` explicitly to suppress the warning\n",
      "  warnings.warn(\n"
     ]
    },
    {
     "name": "stdout",
     "output_type": "stream",
     "text": [
      "Training a K-Means model with 6 clusters! \n",
      "\n"
     ]
    },
    {
     "name": "stderr",
     "output_type": "stream",
     "text": [
      "C:\\Users\\ivann\\anaconda3\\lib\\site-packages\\sklearn\\cluster\\_kmeans.py:870: FutureWarning: The default value of `n_init` will change from 10 to 'auto' in 1.4. Set the value of `n_init` explicitly to suppress the warning\n",
      "  warnings.warn(\n"
     ]
    },
    {
     "name": "stdout",
     "output_type": "stream",
     "text": [
      "Training a K-Means model with 7 clusters! \n",
      "\n"
     ]
    },
    {
     "name": "stderr",
     "output_type": "stream",
     "text": [
      "C:\\Users\\ivann\\anaconda3\\lib\\site-packages\\sklearn\\cluster\\_kmeans.py:870: FutureWarning: The default value of `n_init` will change from 10 to 'auto' in 1.4. Set the value of `n_init` explicitly to suppress the warning\n",
      "  warnings.warn(\n"
     ]
    },
    {
     "name": "stdout",
     "output_type": "stream",
     "text": [
      "Training a K-Means model with 8 clusters! \n",
      "\n"
     ]
    },
    {
     "name": "stderr",
     "output_type": "stream",
     "text": [
      "C:\\Users\\ivann\\anaconda3\\lib\\site-packages\\sklearn\\cluster\\_kmeans.py:870: FutureWarning: The default value of `n_init` will change from 10 to 'auto' in 1.4. Set the value of `n_init` explicitly to suppress the warning\n",
      "  warnings.warn(\n"
     ]
    },
    {
     "name": "stdout",
     "output_type": "stream",
     "text": [
      "Training a K-Means model with 9 clusters! \n",
      "\n"
     ]
    },
    {
     "name": "stderr",
     "output_type": "stream",
     "text": [
      "C:\\Users\\ivann\\anaconda3\\lib\\site-packages\\sklearn\\cluster\\_kmeans.py:870: FutureWarning: The default value of `n_init` will change from 10 to 'auto' in 1.4. Set the value of `n_init` explicitly to suppress the warning\n",
      "  warnings.warn(\n"
     ]
    },
    {
     "name": "stdout",
     "output_type": "stream",
     "text": [
      "Training a K-Means model with 10 clusters! \n",
      "\n"
     ]
    },
    {
     "name": "stderr",
     "output_type": "stream",
     "text": [
      "C:\\Users\\ivann\\anaconda3\\lib\\site-packages\\sklearn\\cluster\\_kmeans.py:870: FutureWarning: The default value of `n_init` will change from 10 to 'auto' in 1.4. Set the value of `n_init` explicitly to suppress the warning\n",
      "  warnings.warn(\n"
     ]
    },
    {
     "name": "stdout",
     "output_type": "stream",
     "text": [
      "Training a K-Means model with 11 clusters! \n",
      "\n"
     ]
    },
    {
     "name": "stderr",
     "output_type": "stream",
     "text": [
      "C:\\Users\\ivann\\anaconda3\\lib\\site-packages\\sklearn\\cluster\\_kmeans.py:870: FutureWarning: The default value of `n_init` will change from 10 to 'auto' in 1.4. Set the value of `n_init` explicitly to suppress the warning\n",
      "  warnings.warn(\n"
     ]
    },
    {
     "name": "stdout",
     "output_type": "stream",
     "text": [
      "Training a K-Means model with 12 clusters! \n",
      "\n"
     ]
    },
    {
     "name": "stderr",
     "output_type": "stream",
     "text": [
      "C:\\Users\\ivann\\anaconda3\\lib\\site-packages\\sklearn\\cluster\\_kmeans.py:870: FutureWarning: The default value of `n_init` will change from 10 to 'auto' in 1.4. Set the value of `n_init` explicitly to suppress the warning\n",
      "  warnings.warn(\n"
     ]
    },
    {
     "name": "stdout",
     "output_type": "stream",
     "text": [
      "Training a K-Means model with 13 clusters! \n",
      "\n"
     ]
    },
    {
     "name": "stderr",
     "output_type": "stream",
     "text": [
      "C:\\Users\\ivann\\anaconda3\\lib\\site-packages\\sklearn\\cluster\\_kmeans.py:870: FutureWarning: The default value of `n_init` will change from 10 to 'auto' in 1.4. Set the value of `n_init` explicitly to suppress the warning\n",
      "  warnings.warn(\n"
     ]
    },
    {
     "name": "stdout",
     "output_type": "stream",
     "text": [
      "Training a K-Means model with 14 clusters! \n",
      "\n"
     ]
    },
    {
     "name": "stderr",
     "output_type": "stream",
     "text": [
      "C:\\Users\\ivann\\anaconda3\\lib\\site-packages\\sklearn\\cluster\\_kmeans.py:870: FutureWarning: The default value of `n_init` will change from 10 to 'auto' in 1.4. Set the value of `n_init` explicitly to suppress the warning\n",
      "  warnings.warn(\n"
     ]
    },
    {
     "name": "stdout",
     "output_type": "stream",
     "text": [
      "Training a K-Means model with 15 clusters! \n",
      "\n"
     ]
    },
    {
     "name": "stderr",
     "output_type": "stream",
     "text": [
      "C:\\Users\\ivann\\anaconda3\\lib\\site-packages\\sklearn\\cluster\\_kmeans.py:870: FutureWarning: The default value of `n_init` will change from 10 to 'auto' in 1.4. Set the value of `n_init` explicitly to suppress the warning\n",
      "  warnings.warn(\n"
     ]
    },
    {
     "name": "stdout",
     "output_type": "stream",
     "text": [
      "Training a K-Means model with 16 clusters! \n",
      "\n"
     ]
    },
    {
     "name": "stderr",
     "output_type": "stream",
     "text": [
      "C:\\Users\\ivann\\anaconda3\\lib\\site-packages\\sklearn\\cluster\\_kmeans.py:870: FutureWarning: The default value of `n_init` will change from 10 to 'auto' in 1.4. Set the value of `n_init` explicitly to suppress the warning\n",
      "  warnings.warn(\n"
     ]
    },
    {
     "name": "stdout",
     "output_type": "stream",
     "text": [
      "Training a K-Means model with 17 clusters! \n",
      "\n"
     ]
    },
    {
     "name": "stderr",
     "output_type": "stream",
     "text": [
      "C:\\Users\\ivann\\anaconda3\\lib\\site-packages\\sklearn\\cluster\\_kmeans.py:870: FutureWarning: The default value of `n_init` will change from 10 to 'auto' in 1.4. Set the value of `n_init` explicitly to suppress the warning\n",
      "  warnings.warn(\n"
     ]
    },
    {
     "name": "stdout",
     "output_type": "stream",
     "text": [
      "Training a K-Means model with 18 clusters! \n",
      "\n"
     ]
    },
    {
     "name": "stderr",
     "output_type": "stream",
     "text": [
      "C:\\Users\\ivann\\anaconda3\\lib\\site-packages\\sklearn\\cluster\\_kmeans.py:870: FutureWarning: The default value of `n_init` will change from 10 to 'auto' in 1.4. Set the value of `n_init` explicitly to suppress the warning\n",
      "  warnings.warn(\n"
     ]
    },
    {
     "name": "stdout",
     "output_type": "stream",
     "text": [
      "Training a K-Means model with 19 clusters! \n",
      "\n"
     ]
    },
    {
     "name": "stderr",
     "output_type": "stream",
     "text": [
      "C:\\Users\\ivann\\anaconda3\\lib\\site-packages\\sklearn\\cluster\\_kmeans.py:870: FutureWarning: The default value of `n_init` will change from 10 to 'auto' in 1.4. Set the value of `n_init` explicitly to suppress the warning\n",
      "  warnings.warn(\n"
     ]
    },
    {
     "name": "stdout",
     "output_type": "stream",
     "text": [
      "Training a K-Means model with 20 clusters! \n",
      "\n"
     ]
    },
    {
     "name": "stderr",
     "output_type": "stream",
     "text": [
      "C:\\Users\\ivann\\anaconda3\\lib\\site-packages\\sklearn\\cluster\\_kmeans.py:870: FutureWarning: The default value of `n_init` will change from 10 to 'auto' in 1.4. Set the value of `n_init` explicitly to suppress the warning\n",
      "  warnings.warn(\n"
     ]
    },
    {
     "data": {
      "text/plain": [
       "Text(0.5, 1.0, 'Elbow Method showing the optimal k')"
      ]
     },
     "execution_count": 17,
     "metadata": {},
     "output_type": "execute_result"
    },
    {
     "data": {
      "image/png": "[encoded data removed]",
      "text/plain": [
       "<Figure size 1600x800 with 1 Axes>"
      ]
     },
     "metadata": {},
     "output_type": "display_data"
    }
   ],
   "source": [
    "K = range(2, 21)\n",
    "inertia = []\n",
    "\n",
    "for k in K:\n",
    "    print(\"Training a K-Means model with {} clusters! \".format(k))\n",
    "    print()\n",
    "    kmeans = KMeans(n_clusters=k,\n",
    "                    random_state=1234)\n",
    "    kmeans.fit(X_scaled_df)\n",
    "    inertia.append(kmeans.inertia_)\n",
    "\n",
    "import numpy as np\n",
    "import matplotlib.pyplot as plt\n",
    "%matplotlib inline\n",
    "\n",
    "plt.figure(figsize=(16,8))\n",
    "plt.plot(K, inertia, 'bx-')\n",
    "plt.xlabel('k')\n",
    "plt.ylabel('inertia')\n",
    "plt.xticks(np.arange(min(K), max(K)+1, 1.0))\n",
    "plt.title('Elbow Method showing the optimal k')"
   ]
  },
  {
   "cell_type": "code",
   "execution_count": 18,
   "id": "7d584de3",
   "metadata": {},
   "outputs": [
    {
     "name": "stdout",
     "output_type": "stream",
     "text": [
      "Calculating silhouette score for K-Means model with 2 clusters! \n",
      "\n"
     ]
    },
    {
     "name": "stderr",
     "output_type": "stream",
     "text": [
      "C:\\Users\\ivann\\anaconda3\\lib\\site-packages\\sklearn\\cluster\\_kmeans.py:870: FutureWarning: The default value of `n_init` will change from 10 to 'auto' in 1.4. Set the value of `n_init` explicitly to suppress the warning\n",
      "  warnings.warn(\n"
     ]
    },
    {
     "name": "stdout",
     "output_type": "stream",
     "text": [
      "Calculating silhouette score for K-Means model with 3 clusters! \n",
      "\n"
     ]
    },
    {
     "name": "stderr",
     "output_type": "stream",
     "text": [
      "C:\\Users\\ivann\\anaconda3\\lib\\site-packages\\sklearn\\cluster\\_kmeans.py:870: FutureWarning: The default value of `n_init` will change from 10 to 'auto' in 1.4. Set the value of `n_init` explicitly to suppress the warning\n",
      "  warnings.warn(\n"
     ]
    },
    {
     "name": "stdout",
     "output_type": "stream",
     "text": [
      "Calculating silhouette score for K-Means model with 4 clusters! \n",
      "\n"
     ]
    },
    {
     "name": "stderr",
     "output_type": "stream",
     "text": [
      "C:\\Users\\ivann\\anaconda3\\lib\\site-packages\\sklearn\\cluster\\_kmeans.py:870: FutureWarning: The default value of `n_init` will change from 10 to 'auto' in 1.4. Set the value of `n_init` explicitly to suppress the warning\n",
      "  warnings.warn(\n"
     ]
    },
    {
     "name": "stdout",
     "output_type": "stream",
     "text": [
      "Calculating silhouette score for K-Means model with 5 clusters! \n",
      "\n"
     ]
    },
    {
     "name": "stderr",
     "output_type": "stream",
     "text": [
      "C:\\Users\\ivann\\anaconda3\\lib\\site-packages\\sklearn\\cluster\\_kmeans.py:870: FutureWarning: The default value of `n_init` will change from 10 to 'auto' in 1.4. Set the value of `n_init` explicitly to suppress the warning\n",
      "  warnings.warn(\n"
     ]
    },
    {
     "name": "stdout",
     "output_type": "stream",
     "text": [
      "Calculating silhouette score for K-Means model with 6 clusters! \n",
      "\n"
     ]
    },
    {
     "name": "stderr",
     "output_type": "stream",
     "text": [
      "C:\\Users\\ivann\\anaconda3\\lib\\site-packages\\sklearn\\cluster\\_kmeans.py:870: FutureWarning: The default value of `n_init` will change from 10 to 'auto' in 1.4. Set the value of `n_init` explicitly to suppress the warning\n",
      "  warnings.warn(\n"
     ]
    },
    {
     "name": "stdout",
     "output_type": "stream",
     "text": [
      "Calculating silhouette score for K-Means model with 7 clusters! \n",
      "\n"
     ]
    },
    {
     "name": "stderr",
     "output_type": "stream",
     "text": [
      "C:\\Users\\ivann\\anaconda3\\lib\\site-packages\\sklearn\\cluster\\_kmeans.py:870: FutureWarning: The default value of `n_init` will change from 10 to 'auto' in 1.4. Set the value of `n_init` explicitly to suppress the warning\n",
      "  warnings.warn(\n"
     ]
    },
    {
     "name": "stdout",
     "output_type": "stream",
     "text": [
      "Calculating silhouette score for K-Means model with 8 clusters! \n",
      "\n"
     ]
    },
    {
     "name": "stderr",
     "output_type": "stream",
     "text": [
      "C:\\Users\\ivann\\anaconda3\\lib\\site-packages\\sklearn\\cluster\\_kmeans.py:870: FutureWarning: The default value of `n_init` will change from 10 to 'auto' in 1.4. Set the value of `n_init` explicitly to suppress the warning\n",
      "  warnings.warn(\n"
     ]
    },
    {
     "name": "stdout",
     "output_type": "stream",
     "text": [
      "Calculating silhouette score for K-Means model with 9 clusters! \n",
      "\n"
     ]
    },
    {
     "name": "stderr",
     "output_type": "stream",
     "text": [
      "C:\\Users\\ivann\\anaconda3\\lib\\site-packages\\sklearn\\cluster\\_kmeans.py:870: FutureWarning: The default value of `n_init` will change from 10 to 'auto' in 1.4. Set the value of `n_init` explicitly to suppress the warning\n",
      "  warnings.warn(\n"
     ]
    },
    {
     "name": "stdout",
     "output_type": "stream",
     "text": [
      "Calculating silhouette score for K-Means model with 10 clusters! \n",
      "\n"
     ]
    },
    {
     "name": "stderr",
     "output_type": "stream",
     "text": [
      "C:\\Users\\ivann\\anaconda3\\lib\\site-packages\\sklearn\\cluster\\_kmeans.py:870: FutureWarning: The default value of `n_init` will change from 10 to 'auto' in 1.4. Set the value of `n_init` explicitly to suppress the warning\n",
      "  warnings.warn(\n"
     ]
    },
    {
     "name": "stdout",
     "output_type": "stream",
     "text": [
      "Calculating silhouette score for K-Means model with 11 clusters! \n",
      "\n"
     ]
    },
    {
     "name": "stderr",
     "output_type": "stream",
     "text": [
      "C:\\Users\\ivann\\anaconda3\\lib\\site-packages\\sklearn\\cluster\\_kmeans.py:870: FutureWarning: The default value of `n_init` will change from 10 to 'auto' in 1.4. Set the value of `n_init` explicitly to suppress the warning\n",
      "  warnings.warn(\n"
     ]
    },
    {
     "name": "stdout",
     "output_type": "stream",
     "text": [
      "Calculating silhouette score for K-Means model with 12 clusters! \n",
      "\n"
     ]
    },
    {
     "name": "stderr",
     "output_type": "stream",
     "text": [
      "C:\\Users\\ivann\\anaconda3\\lib\\site-packages\\sklearn\\cluster\\_kmeans.py:870: FutureWarning: The default value of `n_init` will change from 10 to 'auto' in 1.4. Set the value of `n_init` explicitly to suppress the warning\n",
      "  warnings.warn(\n"
     ]
    },
    {
     "name": "stdout",
     "output_type": "stream",
     "text": [
      "Calculating silhouette score for K-Means model with 13 clusters! \n",
      "\n"
     ]
    },
    {
     "name": "stderr",
     "output_type": "stream",
     "text": [
      "C:\\Users\\ivann\\anaconda3\\lib\\site-packages\\sklearn\\cluster\\_kmeans.py:870: FutureWarning: The default value of `n_init` will change from 10 to 'auto' in 1.4. Set the value of `n_init` explicitly to suppress the warning\n",
      "  warnings.warn(\n"
     ]
    },
    {
     "name": "stdout",
     "output_type": "stream",
     "text": [
      "Calculating silhouette score for K-Means model with 14 clusters! \n",
      "\n"
     ]
    },
    {
     "name": "stderr",
     "output_type": "stream",
     "text": [
      "C:\\Users\\ivann\\anaconda3\\lib\\site-packages\\sklearn\\cluster\\_kmeans.py:870: FutureWarning: The default value of `n_init` will change from 10 to 'auto' in 1.4. Set the value of `n_init` explicitly to suppress the warning\n",
      "  warnings.warn(\n"
     ]
    },
    {
     "name": "stdout",
     "output_type": "stream",
     "text": [
      "Calculating silhouette score for K-Means model with 15 clusters! \n",
      "\n"
     ]
    },
    {
     "name": "stderr",
     "output_type": "stream",
     "text": [
      "C:\\Users\\ivann\\anaconda3\\lib\\site-packages\\sklearn\\cluster\\_kmeans.py:870: FutureWarning: The default value of `n_init` will change from 10 to 'auto' in 1.4. Set the value of `n_init` explicitly to suppress the warning\n",
      "  warnings.warn(\n"
     ]
    },
    {
     "name": "stdout",
     "output_type": "stream",
     "text": [
      "Calculating silhouette score for K-Means model with 16 clusters! \n",
      "\n"
     ]
    },
    {
     "name": "stderr",
     "output_type": "stream",
     "text": [
      "C:\\Users\\ivann\\anaconda3\\lib\\site-packages\\sklearn\\cluster\\_kmeans.py:870: FutureWarning: The default value of `n_init` will change from 10 to 'auto' in 1.4. Set the value of `n_init` explicitly to suppress the warning\n",
      "  warnings.warn(\n"
     ]
    },
    {
     "name": "stdout",
     "output_type": "stream",
     "text": [
      "Calculating silhouette score for K-Means model with 17 clusters! \n",
      "\n"
     ]
    },
    {
     "name": "stderr",
     "output_type": "stream",
     "text": [
      "C:\\Users\\ivann\\anaconda3\\lib\\site-packages\\sklearn\\cluster\\_kmeans.py:870: FutureWarning: The default value of `n_init` will change from 10 to 'auto' in 1.4. Set the value of `n_init` explicitly to suppress the warning\n",
      "  warnings.warn(\n"
     ]
    },
    {
     "name": "stdout",
     "output_type": "stream",
     "text": [
      "Calculating silhouette score for K-Means model with 18 clusters! \n",
      "\n"
     ]
    },
    {
     "name": "stderr",
     "output_type": "stream",
     "text": [
      "C:\\Users\\ivann\\anaconda3\\lib\\site-packages\\sklearn\\cluster\\_kmeans.py:870: FutureWarning: The default value of `n_init` will change from 10 to 'auto' in 1.4. Set the value of `n_init` explicitly to suppress the warning\n",
      "  warnings.warn(\n"
     ]
    },
    {
     "name": "stdout",
     "output_type": "stream",
     "text": [
      "Calculating silhouette score for K-Means model with 19 clusters! \n",
      "\n"
     ]
    },
    {
     "name": "stderr",
     "output_type": "stream",
     "text": [
      "C:\\Users\\ivann\\anaconda3\\lib\\site-packages\\sklearn\\cluster\\_kmeans.py:870: FutureWarning: The default value of `n_init` will change from 10 to 'auto' in 1.4. Set the value of `n_init` explicitly to suppress the warning\n",
      "  warnings.warn(\n"
     ]
    },
    {
     "name": "stdout",
     "output_type": "stream",
     "text": [
      "Calculating silhouette score for K-Means model with 20 clusters! \n",
      "\n"
     ]
    },
    {
     "name": "stderr",
     "output_type": "stream",
     "text": [
      "C:\\Users\\ivann\\anaconda3\\lib\\site-packages\\sklearn\\cluster\\_kmeans.py:870: FutureWarning: The default value of `n_init` will change from 10 to 'auto' in 1.4. Set the value of `n_init` explicitly to suppress the warning\n",
      "  warnings.warn(\n"
     ]
    },
    {
     "data": {
      "image/png": "[encoded data removed]",
      "text/plain": [
       "<Figure size 1600x800 with 1 Axes>"
      ]
     },
     "metadata": {},
     "output_type": "display_data"
    }
   ],
   "source": [
    "from sklearn.metrics import silhouette_score\n",
    "silhouette_scores = []\n",
    "for k in K:\n",
    "    print(\"Calculating silhouette score for K-Means model with {} clusters! \".format(k))\n",
    "    print()\n",
    "    kmeans = KMeans(n_clusters=k, random_state=1234)\n",
    "    kmeans.fit(X_scaled_df)\n",
    "    labels = kmeans.labels_\n",
    "    silhouette_scores.append(silhouette_score(X_scaled_df, labels))\n",
    "plt.figure(figsize=(16,8))\n",
    "plt.plot(K, silhouette_scores, 'bx-')\n",
    "plt.xlabel('k')\n",
    "plt.ylabel('Silhouette Score')\n",
    "plt.xticks(np.arange(min(K), max(K)+1, 1.0))\n",
    "plt.title('Silhouette Score for different values of k')\n",
    "plt.show()"
   ]
  },
  {
   "cell_type": "code",
   "execution_count": 21,
   "id": "796bb1c4",
   "metadata": {},
   "outputs": [],
   "source": [
    "new_df = pd.concat([X, df['id']], axis=1)"
   ]
  },
  {
   "cell_type": "code",
   "execution_count": 22,
   "id": "ecf445d8",
   "metadata": {},
   "outputs": [
    {
     "data": {
      "text/html": [
       "<div>\n",
       "<style scoped>\n",
       "    .dataframe tbody tr th:only-of-type {\n",
       "        vertical-align: middle;\n",
       "    }\n",
       "\n",
       "    .dataframe tbody tr th {\n",
       "        vertical-align: top;\n",
       "    }\n",
       "\n",
       "    .dataframe thead th {\n",
       "        text-align: right;\n",
       "    }\n",
       "</style>\n",
       "<table border=\"1\" class=\"dataframe\">\n",
       "  <thead>\n",
       "    <tr style=\"text-align: right;\">\n",
       "      <th></th>\n",
       "      <th>danceability</th>\n",
       "      <th>energy</th>\n",
       "      <th>key</th>\n",
       "      <th>loudness</th>\n",
       "      <th>mode</th>\n",
       "      <th>speechiness</th>\n",
       "      <th>acousticness</th>\n",
       "      <th>instrumentalness</th>\n",
       "      <th>liveness</th>\n",
       "      <th>valence</th>\n",
       "      <th>tempo</th>\n",
       "      <th>cluster</th>\n",
       "      <th>id</th>\n",
       "    </tr>\n",
       "  </thead>\n",
       "  <tbody>\n",
       "    <tr>\n",
       "      <th>0</th>\n",
       "      <td>0.432</td>\n",
       "      <td>0.884</td>\n",
       "      <td>8</td>\n",
       "      <td>-6.659</td>\n",
       "      <td>1</td>\n",
       "      <td>0.1300</td>\n",
       "      <td>0.012700</td>\n",
       "      <td>0.000527</td>\n",
       "      <td>0.1660</td>\n",
       "      <td>0.624</td>\n",
       "      <td>108.948</td>\n",
       "      <td>0</td>\n",
       "      <td>5cZqsjVs6MevCnAkasbEOX</td>\n",
       "    </tr>\n",
       "    <tr>\n",
       "      <th>1</th>\n",
       "      <td>0.465</td>\n",
       "      <td>0.977</td>\n",
       "      <td>7</td>\n",
       "      <td>-3.839</td>\n",
       "      <td>0</td>\n",
       "      <td>0.1750</td>\n",
       "      <td>0.001110</td>\n",
       "      <td>0.002980</td>\n",
       "      <td>0.2010</td>\n",
       "      <td>0.233</td>\n",
       "      <td>89.535</td>\n",
       "      <td>2</td>\n",
       "      <td>6imjJij6aCM0IbbODUzJQn</td>\n",
       "    </tr>\n",
       "    <tr>\n",
       "      <th>2</th>\n",
       "      <td>0.457</td>\n",
       "      <td>0.834</td>\n",
       "      <td>5</td>\n",
       "      <td>-4.674</td>\n",
       "      <td>0</td>\n",
       "      <td>0.0817</td>\n",
       "      <td>0.002520</td>\n",
       "      <td>0.001250</td>\n",
       "      <td>0.1000</td>\n",
       "      <td>0.201</td>\n",
       "      <td>140.032</td>\n",
       "      <td>3</td>\n",
       "      <td>1H4Y9uW4N0LsxJUz0VnaPJ</td>\n",
       "    </tr>\n",
       "    <tr>\n",
       "      <th>3</th>\n",
       "      <td>0.591</td>\n",
       "      <td>0.963</td>\n",
       "      <td>0</td>\n",
       "      <td>-6.489</td>\n",
       "      <td>0</td>\n",
       "      <td>0.0531</td>\n",
       "      <td>0.000087</td>\n",
       "      <td>0.000107</td>\n",
       "      <td>0.0781</td>\n",
       "      <td>0.609</td>\n",
       "      <td>125.030</td>\n",
       "      <td>2</td>\n",
       "      <td>6Nm8h73ycDG2saCnZV8poF</td>\n",
       "    </tr>\n",
       "    <tr>\n",
       "      <th>4</th>\n",
       "      <td>0.580</td>\n",
       "      <td>0.916</td>\n",
       "      <td>3</td>\n",
       "      <td>-4.358</td>\n",
       "      <td>0</td>\n",
       "      <td>0.0387</td>\n",
       "      <td>0.000297</td>\n",
       "      <td>0.025900</td>\n",
       "      <td>0.1260</td>\n",
       "      <td>0.683</td>\n",
       "      <td>118.004</td>\n",
       "      <td>2</td>\n",
       "      <td>5anCkDvJ17aznvK5TED5uo</td>\n",
       "    </tr>\n",
       "    <tr>\n",
       "      <th>...</th>\n",
       "      <td>...</td>\n",
       "      <td>...</td>\n",
       "      <td>...</td>\n",
       "      <td>...</td>\n",
       "      <td>...</td>\n",
       "      <td>...</td>\n",
       "      <td>...</td>\n",
       "      <td>...</td>\n",
       "      <td>...</td>\n",
       "      <td>...</td>\n",
       "      <td>...</td>\n",
       "      <td>...</td>\n",
       "      <td>...</td>\n",
       "    </tr>\n",
       "    <tr>\n",
       "      <th>2094</th>\n",
       "      <td>0.601</td>\n",
       "      <td>0.434</td>\n",
       "      <td>2</td>\n",
       "      <td>-11.291</td>\n",
       "      <td>1</td>\n",
       "      <td>0.0664</td>\n",
       "      <td>0.905000</td>\n",
       "      <td>0.408000</td>\n",
       "      <td>0.1360</td>\n",
       "      <td>0.926</td>\n",
       "      <td>128.928</td>\n",
       "      <td>0</td>\n",
       "      <td>5pqe0gd0C0k3Q636nWSrCs</td>\n",
       "    </tr>\n",
       "    <tr>\n",
       "      <th>2095</th>\n",
       "      <td>0.477</td>\n",
       "      <td>0.320</td>\n",
       "      <td>3</td>\n",
       "      <td>-10.421</td>\n",
       "      <td>1</td>\n",
       "      <td>0.0770</td>\n",
       "      <td>0.960000</td>\n",
       "      <td>0.939000</td>\n",
       "      <td>0.0726</td>\n",
       "      <td>0.971</td>\n",
       "      <td>91.799</td>\n",
       "      <td>1</td>\n",
       "      <td>2sNmaCsnkMHeuG4NcVEz3z</td>\n",
       "    </tr>\n",
       "    <tr>\n",
       "      <th>2096</th>\n",
       "      <td>0.553</td>\n",
       "      <td>0.855</td>\n",
       "      <td>2</td>\n",
       "      <td>-5.394</td>\n",
       "      <td>1</td>\n",
       "      <td>0.0485</td>\n",
       "      <td>0.701000</td>\n",
       "      <td>0.000387</td>\n",
       "      <td>0.7200</td>\n",
       "      <td>0.971</td>\n",
       "      <td>122.043</td>\n",
       "      <td>4</td>\n",
       "      <td>3kW6XrBALTASTUrgGw0Yu0</td>\n",
       "    </tr>\n",
       "    <tr>\n",
       "      <th>2097</th>\n",
       "      <td>0.711</td>\n",
       "      <td>0.718</td>\n",
       "      <td>7</td>\n",
       "      <td>-8.508</td>\n",
       "      <td>1</td>\n",
       "      <td>0.0450</td>\n",
       "      <td>0.719000</td>\n",
       "      <td>0.925000</td>\n",
       "      <td>0.1020</td>\n",
       "      <td>0.964</td>\n",
       "      <td>115.365</td>\n",
       "      <td>0</td>\n",
       "      <td>6tWVMFlSwTPVOgeWBQMapG</td>\n",
       "    </tr>\n",
       "    <tr>\n",
       "      <th>2098</th>\n",
       "      <td>0.470</td>\n",
       "      <td>0.564</td>\n",
       "      <td>2</td>\n",
       "      <td>-8.129</td>\n",
       "      <td>1</td>\n",
       "      <td>0.0414</td>\n",
       "      <td>0.425000</td>\n",
       "      <td>0.006580</td>\n",
       "      <td>0.1740</td>\n",
       "      <td>0.845</td>\n",
       "      <td>119.355</td>\n",
       "      <td>0</td>\n",
       "      <td>3FnKOidmaJJzdP52XBWZ5f</td>\n",
       "    </tr>\n",
       "  </tbody>\n",
       "</table>\n",
       "<p>2099 rows × 13 columns</p>\n",
       "</div>"
      ],
      "text/plain": [
       "      danceability  energy  key  loudness  mode  speechiness  acousticness  \\\n",
       "0            0.432   0.884    8    -6.659     1       0.1300      0.012700   \n",
       "1            0.465   0.977    7    -3.839     0       0.1750      0.001110   \n",
       "2            0.457   0.834    5    -4.674     0       0.0817      0.002520   \n",
       "3            0.591   0.963    0    -6.489     0       0.0531      0.000087   \n",
       "4            0.580   0.916    3    -4.358     0       0.0387      0.000297   \n",
       "...            ...     ...  ...       ...   ...          ...           ...   \n",
       "2094         0.601   0.434    2   -11.291     1       0.0664      0.905000   \n",
       "2095         0.477   0.320    3   -10.421     1       0.0770      0.960000   \n",
       "2096         0.553   0.855    2    -5.394     1       0.0485      0.701000   \n",
       "2097         0.711   0.718    7    -8.508     1       0.0450      0.719000   \n",
       "2098         0.470   0.564    2    -8.129     1       0.0414      0.425000   \n",
       "\n",
       "      instrumentalness  liveness  valence    tempo  cluster  \\\n",
       "0             0.000527    0.1660    0.624  108.948        0   \n",
       "1             0.002980    0.2010    0.233   89.535        2   \n",
       "2             0.001250    0.1000    0.201  140.032        3   \n",
       "3             0.000107    0.0781    0.609  125.030        2   \n",
       "4             0.025900    0.1260    0.683  118.004        2   \n",
       "...                ...       ...      ...      ...      ...   \n",
       "2094          0.408000    0.1360    0.926  128.928        0   \n",
       "2095          0.939000    0.0726    0.971   91.799        1   \n",
       "2096          0.000387    0.7200    0.971  122.043        4   \n",
       "2097          0.925000    0.1020    0.964  115.365        0   \n",
       "2098          0.006580    0.1740    0.845  119.355        0   \n",
       "\n",
       "                          id  \n",
       "0     5cZqsjVs6MevCnAkasbEOX  \n",
       "1     6imjJij6aCM0IbbODUzJQn  \n",
       "2     1H4Y9uW4N0LsxJUz0VnaPJ  \n",
       "3     6Nm8h73ycDG2saCnZV8poF  \n",
       "4     5anCkDvJ17aznvK5TED5uo  \n",
       "...                      ...  \n",
       "2094  5pqe0gd0C0k3Q636nWSrCs  \n",
       "2095  2sNmaCsnkMHeuG4NcVEz3z  \n",
       "2096  3kW6XrBALTASTUrgGw0Yu0  \n",
       "2097  6tWVMFlSwTPVOgeWBQMapG  \n",
       "2098  3FnKOidmaJJzdP52XBWZ5f  \n",
       "\n",
       "[2099 rows x 13 columns]"
      ]
     },
     "execution_count": 22,
     "metadata": {},
     "output_type": "execute_result"
    }
   ],
   "source": [
    "new_df"
   ]
  },
  {
   "cell_type": "code",
   "execution_count": null,
   "id": "b857e3f2",
   "metadata": {},
   "outputs": [],
   "source": [
    "from IPython.display import IFrame\n",
    "def play_song(track_id):\n",
    "    return IFrame(src=\"https://open.spotify.com/embed/track/\"+track_id,\n",
    "       width=\"320\",\n",
    "       height=\"80\",\n",
    "       frameborder=\"0\",\n",
    "       allowtransparency=\"true\",\n",
    "       allow=\"encrypted-media\",\n",
    "      )"
   ]
  },
  {
   "cell_type": "code",
   "execution_count": null,
   "id": "0ff91242",
   "metadata": {},
   "outputs": [],
   "source": [
    "song_input = input(\"Please, enter the song title: \")\n",
    "user_input = sp.search(q= song_input, type='track', limit=1)\n",
    "song_id = user_input [\"tracks\"][\"items\"][0][\"id\"]\n",
    "song_id\n",
    "display(play_song(song_id))\n",
    "verified = input(\"Is this your song? (yes/no): \")\n",
    "if verified.lower() == \"yes\":\n",
    "    # Collect song features\n",
    "    song_features = sp.audio_features([song_id])[0]\n",
    "    # Create a DataFrame with the song features\n",
    "    user_song = pd.DataFrame(song_features, index=[0])\n",
    "    # Print the user_song DataFrame\n",
    "    print(\"\\nUser Song Features:\")\n",
    "    print(user_song)\n"
   ]
  },
  {
   "cell_type": "code",
   "execution_count": null,
   "id": "c8b3b5a7",
   "metadata": {},
   "outputs": [],
   "source": [
    "exclude = ['type', 'id','uri', 'track_href', 'analysis_url', 'duration_ms', 'time_signature']\n",
    "user=pd.DataFrame([song_features]).drop(columns=exclude)\n",
    "user"
   ]
  },
  {
   "cell_type": "code",
   "execution_count": 38,
   "id": "7fe4db04",
   "metadata": {},
   "outputs": [
    {
     "name": "stdout",
     "output_type": "stream",
     "text": [
      "\n",
      "Scaled User Song Features:\n"
     ]
    },
    {
     "data": {
      "text/html": [
       "<div>\n",
       "<style scoped>\n",
       "    .dataframe tbody tr th:only-of-type {\n",
       "        vertical-align: middle;\n",
       "    }\n",
       "\n",
       "    .dataframe tbody tr th {\n",
       "        vertical-align: top;\n",
       "    }\n",
       "\n",
       "    .dataframe thead th {\n",
       "        text-align: right;\n",
       "    }\n",
       "</style>\n",
       "<table border=\"1\" class=\"dataframe\">\n",
       "  <thead>\n",
       "    <tr style=\"text-align: right;\">\n",
       "      <th></th>\n",
       "      <th>danceability</th>\n",
       "      <th>energy</th>\n",
       "      <th>key</th>\n",
       "      <th>loudness</th>\n",
       "      <th>mode</th>\n",
       "      <th>speechiness</th>\n",
       "      <th>acousticness</th>\n",
       "      <th>instrumentalness</th>\n",
       "      <th>liveness</th>\n",
       "      <th>valence</th>\n",
       "      <th>tempo</th>\n",
       "    </tr>\n",
       "  </thead>\n",
       "  <tbody>\n",
       "    <tr>\n",
       "      <th>0</th>\n",
       "      <td>-0.116587</td>\n",
       "      <td>1.256701</td>\n",
       "      <td>1.638253</td>\n",
       "      <td>0.207981</td>\n",
       "      <td>-1.238961</td>\n",
       "      <td>-0.430579</td>\n",
       "      <td>-0.484099</td>\n",
       "      <td>2.017159</td>\n",
       "      <td>-0.687158</td>\n",
       "      <td>0.360031</td>\n",
       "      <td>0.553459</td>\n",
       "    </tr>\n",
       "  </tbody>\n",
       "</table>\n",
       "</div>"
      ],
      "text/plain": [
       "   danceability    energy       key  loudness      mode  speechiness  \\\n",
       "0     -0.116587  1.256701  1.638253  0.207981 -1.238961    -0.430579   \n",
       "\n",
       "   acousticness  instrumentalness  liveness   valence     tempo  \n",
       "0     -0.484099          2.017159 -0.687158  0.360031  0.553459  "
      ]
     },
     "execution_count": 38,
     "metadata": {},
     "output_type": "execute_result"
    }
   ],
   "source": [
    "user_scaled = scaler.transform(user)\n",
    "user_scaled_df = pd.DataFrame(user_scaled, columns=user.columns)\n",
    "# Display the scaled user DataFrame\n",
    "print(\"\\nScaled User Song Features:\")\n",
    "user_scaled_df"
   ]
  },
  {
   "cell_type": "code",
   "execution_count": 40,
   "id": "e4797170",
   "metadata": {},
   "outputs": [
    {
     "data": {
      "text/html": [
       "\n",
       "        <iframe\n",
       "            width=\"320\"\n",
       "            height=\"80\"\n",
       "            src=\"https://open.spotify.com/embed/track/7C2L5Lsrc3GvRS5n5lN2Mc?frameborder=0&allowtransparency=true&allow=encrypted-media\"\n",
       "            frameborder=\"0\"\n",
       "            allowfullscreen\n",
       "            \n",
       "        ></iframe>\n",
       "        "
      ],
      "text/plain": [
       "<IPython.lib.display.IFrame at 0x22c9e7b20e0>"
      ]
     },
     "metadata": {},
     "output_type": "display_data"
    }
   ],
   "source": [
    "# Apply KMeans prediction to user_scaled_df\n",
    "user_cluster = kmeans2.predict(user_scaled_df)\n",
    "# Filter recommended songs based on predicted cluster\n",
    "recommended_songs = new_df[new_df['cluster'] == user_cluster[0]]\n",
    "# Select a random song from recommended songs\n",
    "recommended_song = recommended_songs.sample(n=1)\n",
    "# Retrieve track_id of recommended song\n",
    "recommended_track_id = recommended_song['id'].values[0]\n",
    "# Display the recommended song\n",
    "display(play_song(recommended_track_id))"
   ]
  },
  {
   "cell_type": "code",
   "execution_count": null,
   "id": "b1786b69",
   "metadata": {},
   "outputs": [],
   "source": []
  },
  {
   "cell_type": "code",
   "execution_count": null,
   "id": "06d4eb03",
   "metadata": {},
   "outputs": [],
   "source": []
  }
 ],
 "metadata": {
  "kernelspec": {
   "display_name": "Python 3 (ipykernel)",
   "language": "python",
   "name": "python3"
  },
  "language_info": {
   "codemirror_mode": {
    "name": "ipython",
    "version": 3
   },
   "file_extension": ".py",
   "mimetype": "text/x-python",
   "name": "python",
   "nbconvert_exporter": "python",
   "pygments_lexer": "ipython3",
   "version": "3.10.9"
  }
 },
 "nbformat": 4,
 "nbformat_minor": 5
}
